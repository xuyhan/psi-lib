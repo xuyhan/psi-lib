{
 "cells": [
  {
   "cell_type": "code",
   "execution_count": 1,
   "id": "1ec5e5bf",
   "metadata": {},
   "outputs": [],
   "source": [
    "import os\n",
    "\n",
    "from tqdm import tqdm\n",
    "from keras.datasets import mnist, cifar10\n",
    "from keras.utils import to_categorical\n",
    "from keras.models import Sequential\n",
    "from keras.layers import Conv2D\n",
    "from keras.layers import Dense\n",
    "from keras.layers import Flatten, Dropout, BatchNormalization, MaxPool2D, Activation, AveragePooling2D\n",
    "from keras.layers import ZeroPadding2D\n",
    "\n",
    "from keras.optimizers import SGD, Adam\n",
    "from keras.preprocessing.image import ImageDataGenerator\n",
    "from keras import backend as K\n",
    "import numpy as np\n",
    "\n",
    "import tensorflow as tf\n",
    "gpus = tf.config.experimental.list_physical_devices('GPU')\n",
    "tf.config.experimental.set_memory_growth(gpus[0], True)\n",
    "\n",
    "import math\n",
    "import matplotlib.pyplot as plt"
   ]
  },
  {
   "cell_type": "code",
   "execution_count": 2,
   "id": "489a7544",
   "metadata": {},
   "outputs": [],
   "source": [
    "def load_dataset_mnist():\n",
    "    (trainX, trainY), (testX, testY) = mnist.load_data()\n",
    "    trainX = trainX.reshape((trainX.shape[0], 28, 28, 1))\n",
    "    testX = testX.reshape((testX.shape[0], 28, 28, 1))\n",
    "    trainY = to_categorical(trainY)\n",
    "    testY = to_categorical(testY)\n",
    "    return trainX, trainY, testX, testY\n",
    "\n",
    "def load_dataset_cifar10():\n",
    "    (trainX, trainY), (testX, testY) = cifar10.load_data()\n",
    "    trainX = trainX.reshape((trainX.shape[0], 32, 32, 3))\n",
    "    testX = testX.reshape((testX.shape[0], 32, 32, 3))\n",
    "    trainY = to_categorical(trainY)\n",
    "    testY = to_categorical(testY)\n",
    "    return trainX, trainY, testX, testY\n",
    "\n",
    "def prep_pixels(train, test):\n",
    "    train_norm = train.astype('float32')\n",
    "    test_norm = test.astype('float32')\n",
    "    train_norm = train_norm / 255.0\n",
    "    test_norm = test_norm / 255.0\n",
    "    return train_norm, test_norm\n",
    "\n",
    "def square_activation(x):\n",
    "    return K.square(x)\n",
    "\n",
    "def identity(x):\n",
    "    return x"
   ]
  },
  {
   "cell_type": "code",
   "execution_count": 3,
   "id": "225809f9",
   "metadata": {},
   "outputs": [],
   "source": [
    "def mnist_cryptonets():\n",
    "    model = Sequential()\n",
    "    model.add(ZeroPadding2D(padding=(1, 1)))\n",
    "    model.add(Conv2D(5, (5, 5), strides=2, padding='valid'))\n",
    "    model.add(Activation(square_activation))\n",
    "    model.add(AveragePooling2D(pool_size=(3, 3), strides=1, padding='same'))\n",
    "    model.add(Conv2D(50, (5, 5), strides=2, padding='valid'))\n",
    "    model.add(AveragePooling2D(pool_size=(3, 3), strides=1, padding='same'))\n",
    "    model.add(Flatten())\n",
    "    model.add(Dense(100, activation=square_activation))\n",
    "    model.add(Dense(10, activation='sigmoid'))\n",
    "\n",
    "    opt = Adam(lr=0.0003)\n",
    "    model.compile(optimizer=opt, loss='categorical_crossentropy', metrics=['accuracy'])\n",
    "    return model\n",
    "\n",
    "def mnist_large():\n",
    "    model = Sequential()\n",
    "    model.add(ZeroPadding2D(padding=(1, 1)))\n",
    "    model.add(Conv2D(64, (3, 3), strides=1, padding='valid'))\n",
    "    model.add(Activation(square_activation))\n",
    "    model.add(AveragePooling2D(pool_size=(3, 3), strides=2, padding='same'))\n",
    "    model.add(Conv2D(128, (3, 3), strides=1, padding='valid'))\n",
    "    model.add(AveragePooling2D(pool_size=(3, 3), strides=3, padding='same'))\n",
    "    model.add(Flatten())\n",
    "    model.add(Dense(100, activation=square_activation))\n",
    "    model.add(Dense(10, activation='sigmoid'))\n",
    "\n",
    "    opt = Adam(lr=0.0003)\n",
    "    model.compile(optimizer=opt, loss='categorical_crossentropy', metrics=['accuracy'])\n",
    "    return model"
   ]
  },
  {
   "cell_type": "code",
   "execution_count": null,
   "id": "aa4f53fb",
   "metadata": {},
   "outputs": [],
   "source": []
  },
  {
   "cell_type": "code",
   "execution_count": null,
   "id": "b154ce1a",
   "metadata": {},
   "outputs": [],
   "source": []
  },
  {
   "cell_type": "code",
   "execution_count": null,
   "id": "46c642cf",
   "metadata": {},
   "outputs": [],
   "source": []
  },
  {
   "cell_type": "code",
   "execution_count": null,
   "id": "49f9ff46",
   "metadata": {},
   "outputs": [],
   "source": []
  }
 ],
 "metadata": {
  "kernelspec": {
   "display_name": "Python 3",
   "language": "python",
   "name": "python3"
  },
  "language_info": {
   "codemirror_mode": {
    "name": "ipython",
    "version": 3
   },
   "file_extension": ".py",
   "mimetype": "text/x-python",
   "name": "python",
   "nbconvert_exporter": "python",
   "pygments_lexer": "ipython3",
   "version": "3.8.5"
  }
 },
 "nbformat": 4,
 "nbformat_minor": 5
}
