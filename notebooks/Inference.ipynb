{
 "cells": [
  {
   "cell_type": "code",
   "execution_count": 1,
   "id": "07b5918d",
   "metadata": {},
   "outputs": [],
   "source": [
    "import numpy as np\n",
    "from typing import List\n",
    "\n",
    "from tqdm import tqdm\n",
    "\n",
    "from data_loader import load_data\n",
    "from schemes import *\n",
    "from lin_algebra import *\n",
    "from creator import Creator\n",
    "import math\n",
    "import time\n",
    "import torch\n",
    "from keras.layers import ZeroPadding2D\n",
    "import low_lat\n",
    "from logger import debug, debug_colours\n",
    "\n",
    "from model_builder import *"
   ]
  },
  {
   "cell_type": "markdown",
   "id": "9886f972",
   "metadata": {},
   "source": [
    "### Low latency models"
   ]
  },
  {
   "cell_type": "code",
   "execution_count": 2,
   "id": "33018814",
   "metadata": {},
   "outputs": [],
   "source": [
    "def mnist_fast(examples, mode='cifar'):\n",
    "    if mode == 'normal':\n",
    "        #scheme = get_ckks_scheme(512 * 16 * 2 * 1, primes=[60, 50, 50, 50, 50, 50, 60], scale_factor=50)\n",
    "        scheme = get_ckks_scheme(512 * 16 * 1 * 1, primes=[32, 28, 28, 28, 28, 28, 32], scale_factor=28)\n",
    "\n",
    "        creator = Creator(scheme)\n",
    "\n",
    "        s = 2\n",
    "        k = 5\n",
    "\n",
    "        model = Model(creator)\n",
    "        model.add(InputLayer(input_shape=(1, 30, 30)))\n",
    "        model.add(ConvLayer(kernel_size=(k, k), stride=s, padding=0, num_maps=5, dense_mode=False))\n",
    "        model.add(ActivationLayer(mode='square'))\n",
    "        model.add(Flatten(groups=1))\n",
    "        model.add(DenseLayer(output_length=100))\n",
    "        model.add(ActivationLayer(mode='square'))\n",
    "        model.add(DenseLayer(output_length=10))\n",
    "\n",
    "        weights, test_features, preds_base, outputs_base = load_data(name='MNIST-CRYPTONETS')\n",
    "        test_features = ZeroPadding2D()(test_features).numpy()\n",
    "\n",
    "        model.compile(data_mode=1)\n",
    "        model.load_weights(weights, scale=16)\n",
    "        model.summary()\n",
    "    elif mode == 'opt':\n",
    "        scheme = get_ckks_scheme(512 * 16 * 1 * 1, primes=[32, 28, 28, 28, 28, 28, 32], scale_factor=28)\n",
    "        creator = Creator(scheme)\n",
    "\n",
    "        s = 1\n",
    "        k = 3\n",
    "\n",
    "        model = Model(creator)\n",
    "        model.add(InputLayer(input_shape=(1, 30, 30)))\n",
    "        model.add(ConvLayer(kernel_size=(k, k), stride=s, padding=0, num_maps=5, dense_mode=False))\n",
    "        model.add(ActivationLayer(mode='square'))\n",
    "        model.add(Flatten())\n",
    "        model.add(DenseLayer(output_length=32))\n",
    "        model.add(ActivationLayer(mode='square'))\n",
    "        model.add(DenseLayer(output_length=10))\n",
    "\n",
    "        weights, test_features, preds_base, outputs_base = load_data(name='MNIST-OPT')\n",
    "        test_features = ZeroPadding2D()(test_features).numpy()\n",
    "\n",
    "        model.compile(data_mode=1)\n",
    "        model.load_weights(weights, scale=16)\n",
    "        model.summary()\n",
    "    elif mode == 'cifar':\n",
    "        scheme = get_ckks_scheme(512 * 16 * 2 * 1, primes=[60, 30, 30, 30, 30, 30, 30, 30, 30, 60], scale_factor=30)\n",
    "        #scheme = get_ckks_scheme(512 * 16 * 2 * 2, primes=[60, 50, 50, 50, 50, 50, 50, 50, 50, 60], scale_factor=50)\n",
    "        creator = Creator(scheme)\n",
    "\n",
    "        s = 1\n",
    "        k = 3\n",
    "\n",
    "        model = Model(creator)\n",
    "        model.add(InputLayer(input_shape=(3, 32, 32)))\n",
    "        model.add(ConvLayer(kernel_size=(k, k), stride=s, padding=0, num_maps=32, dense_mode=False))\n",
    "        model.add(ActivationLayer(mode='square'))\n",
    "        model.add(Flatten(groups=4))\n",
    "        model.add(DenseLayer(output_length=512))\n",
    "        model.add(Unflatten(channels=8))\n",
    "        model.add(ConvLayer(kernel_size=(1, 1), stride=1, padding=0, num_maps=64, dense_mode=False))\n",
    "        model.add(ActivationLayer(mode='square'))\n",
    "        model.add(Flatten(groups=1))\n",
    "        model.add(DenseLayer(output_length=256))\n",
    "        model.add(ActivationLayer(mode='square'))\n",
    "        model.add(DenseLayer(output_length=10))\n",
    "\n",
    "        weights, test_features, preds_base, outputs_base = load_data(name='CIFAR_SVD')\n",
    "\n",
    "        model.compile(data_mode=1)\n",
    "        model.load_weights(weights, scale=16)\n",
    "        model.summary()\n",
    "\n",
    "    for i in range(examples):\n",
    "        image = test_features[i]\n",
    "        preds_base_i = preds_base[i]\n",
    "        outputs_base_i = outputs_base[i]\n",
    "\n",
    "        data = creator.encrypt_dense(mat=image)\n",
    "        img_groups = creator.obtain_image_groups(mat=image, k=k, s=s)\n",
    "\n",
    "        t1 = time.process_time()\n",
    "        outputs = model.predict(input_data=img_groups,\n",
    "                                     creator=creator,\n",
    "                                     classes=10)\n",
    "\n",
    "        output_probs = torch.softmax(torch.tensor(np.array(outputs, dtype=float)), 0).detach().numpy()\n",
    "\n",
    "        debug('mnist_fast', str(time.process_time() - t1), debug_colours.PURPLE)\n",
    "        debug('mnist_fast', str(np.argmax(outputs)) + ' ' + str(preds_base_i), debug_colours.PURPLE)\n",
    "\n",
    "        if np.argmax(outputs) != preds_base_i:\n",
    "            debug('mnist_fast', 'incorrect prediction!', debug_colours.PURPLE)"
   ]
  },
  {
   "cell_type": "code",
   "execution_count": 3,
   "id": "4bea8cc2",
   "metadata": {},
   "outputs": [
    {
     "ename": "KeyboardInterrupt",
     "evalue": "",
     "output_type": "error",
     "traceback": [
      "\u001b[0;31m---------------------------------------------------------------------------\u001b[0m",
      "\u001b[0;31mKeyboardInterrupt\u001b[0m                         Traceback (most recent call last)",
      "\u001b[0;32m<ipython-input-3-ac31bc704f28>\u001b[0m in \u001b[0;36m<module>\u001b[0;34m\u001b[0m\n\u001b[0;32m----> 1\u001b[0;31m \u001b[0mmnist_fast\u001b[0m\u001b[0;34m(\u001b[0m\u001b[0mexamples\u001b[0m\u001b[0;34m=\u001b[0m\u001b[0;36m1\u001b[0m\u001b[0;34m,\u001b[0m \u001b[0mmode\u001b[0m\u001b[0;34m=\u001b[0m\u001b[0;34m'cifar'\u001b[0m\u001b[0;34m)\u001b[0m\u001b[0;34m\u001b[0m\u001b[0;34m\u001b[0m\u001b[0m\n\u001b[0m",
      "\u001b[0;32m<ipython-input-2-fd1ab861c4d0>\u001b[0m in \u001b[0;36mmnist_fast\u001b[0;34m(examples, mode)\u001b[0m\n\u001b[1;32m     47\u001b[0m         \u001b[0mmodel\u001b[0m\u001b[0;34m.\u001b[0m\u001b[0msummary\u001b[0m\u001b[0;34m(\u001b[0m\u001b[0;34m)\u001b[0m\u001b[0;34m\u001b[0m\u001b[0;34m\u001b[0m\u001b[0m\n\u001b[1;32m     48\u001b[0m     \u001b[0;32melif\u001b[0m \u001b[0mmode\u001b[0m \u001b[0;34m==\u001b[0m \u001b[0;34m'cifar'\u001b[0m\u001b[0;34m:\u001b[0m\u001b[0;34m\u001b[0m\u001b[0;34m\u001b[0m\u001b[0m\n\u001b[0;32m---> 49\u001b[0;31m         \u001b[0mscheme\u001b[0m \u001b[0;34m=\u001b[0m \u001b[0mget_ckks_scheme\u001b[0m\u001b[0;34m(\u001b[0m\u001b[0;36m512\u001b[0m \u001b[0;34m*\u001b[0m \u001b[0;36m16\u001b[0m \u001b[0;34m*\u001b[0m \u001b[0;36m2\u001b[0m \u001b[0;34m*\u001b[0m \u001b[0;36m1\u001b[0m\u001b[0;34m,\u001b[0m \u001b[0mprimes\u001b[0m\u001b[0;34m=\u001b[0m\u001b[0;34m[\u001b[0m\u001b[0;36m60\u001b[0m\u001b[0;34m,\u001b[0m \u001b[0;36m30\u001b[0m\u001b[0;34m,\u001b[0m \u001b[0;36m30\u001b[0m\u001b[0;34m,\u001b[0m \u001b[0;36m30\u001b[0m\u001b[0;34m,\u001b[0m \u001b[0;36m30\u001b[0m\u001b[0;34m,\u001b[0m \u001b[0;36m30\u001b[0m\u001b[0;34m,\u001b[0m \u001b[0;36m30\u001b[0m\u001b[0;34m,\u001b[0m \u001b[0;36m30\u001b[0m\u001b[0;34m,\u001b[0m \u001b[0;36m30\u001b[0m\u001b[0;34m,\u001b[0m \u001b[0;36m60\u001b[0m\u001b[0;34m]\u001b[0m\u001b[0;34m,\u001b[0m \u001b[0mscale_factor\u001b[0m\u001b[0;34m=\u001b[0m\u001b[0;36m30\u001b[0m\u001b[0;34m)\u001b[0m\u001b[0;34m\u001b[0m\u001b[0;34m\u001b[0m\u001b[0m\n\u001b[0m\u001b[1;32m     50\u001b[0m         \u001b[0;31m#scheme = get_ckks_scheme(512 * 16 * 2 * 2, primes=[60, 50, 50, 50, 50, 50, 50, 50, 50, 60], scale_factor=50)\u001b[0m\u001b[0;34m\u001b[0m\u001b[0;34m\u001b[0m\u001b[0;34m\u001b[0m\u001b[0m\n\u001b[1;32m     51\u001b[0m         \u001b[0mcreator\u001b[0m \u001b[0;34m=\u001b[0m \u001b[0mCreator\u001b[0m\u001b[0;34m(\u001b[0m\u001b[0mscheme\u001b[0m\u001b[0;34m)\u001b[0m\u001b[0;34m\u001b[0m\u001b[0;34m\u001b[0m\u001b[0m\n",
      "\u001b[0;32m~/Desktop/part-ii-project/part-ii-project/schemes.py\u001b[0m in \u001b[0;36mget_ckks_scheme\u001b[0;34m(poly_mods, primes, scale_factor)\u001b[0m\n\u001b[1;32m    466\u001b[0m \u001b[0;34m\u001b[0m\u001b[0m\n\u001b[1;32m    467\u001b[0m \u001b[0;32mdef\u001b[0m \u001b[0mget_ckks_scheme\u001b[0m\u001b[0;34m(\u001b[0m\u001b[0mpoly_mods\u001b[0m\u001b[0;34m,\u001b[0m \u001b[0mprimes\u001b[0m\u001b[0;34m,\u001b[0m \u001b[0mscale_factor\u001b[0m\u001b[0;34m)\u001b[0m\u001b[0;34m:\u001b[0m\u001b[0;34m\u001b[0m\u001b[0;34m\u001b[0m\u001b[0m\n\u001b[0;32m--> 468\u001b[0;31m     scheme = SchemeCKKS(\n\u001b[0m\u001b[1;32m    469\u001b[0m         \u001b[0mpoly_mods\u001b[0m\u001b[0;34m,\u001b[0m \u001b[0mprimes\u001b[0m\u001b[0;34m,\u001b[0m \u001b[0mscale_factor\u001b[0m\u001b[0;34m\u001b[0m\u001b[0;34m\u001b[0m\u001b[0m\n\u001b[1;32m    470\u001b[0m     )\n",
      "\u001b[0;32m~/Desktop/part-ii-project/part-ii-project/schemes.py\u001b[0m in \u001b[0;36m__init__\u001b[0;34m(self, poly_modulus_degree, primes, scale_factor)\u001b[0m\n\u001b[1;32m    101\u001b[0m \u001b[0;34m\u001b[0m\u001b[0m\n\u001b[1;32m    102\u001b[0m         \u001b[0mself\u001b[0m\u001b[0;34m.\u001b[0m\u001b[0mrelin_keys\u001b[0m \u001b[0;34m=\u001b[0m \u001b[0mkeygen\u001b[0m\u001b[0;34m.\u001b[0m\u001b[0mrelin_keys\u001b[0m\u001b[0;34m(\u001b[0m\u001b[0;34m)\u001b[0m\u001b[0;34m\u001b[0m\u001b[0;34m\u001b[0m\u001b[0m\n\u001b[0;32m--> 103\u001b[0;31m         \u001b[0mself\u001b[0m\u001b[0;34m.\u001b[0m\u001b[0mgal_keys\u001b[0m \u001b[0;34m=\u001b[0m \u001b[0mkeygen\u001b[0m\u001b[0;34m.\u001b[0m\u001b[0mgalois_keys\u001b[0m\u001b[0;34m(\u001b[0m\u001b[0;34m)\u001b[0m\u001b[0;34m\u001b[0m\u001b[0;34m\u001b[0m\u001b[0m\n\u001b[0m\u001b[1;32m    104\u001b[0m         \u001b[0;31m#self.gal_keys_s = keygen.galois_keys(uIntVector(g_keys))\u001b[0m\u001b[0;34m\u001b[0m\u001b[0;34m\u001b[0m\u001b[0;34m\u001b[0m\u001b[0m\n\u001b[1;32m    105\u001b[0m \u001b[0;34m\u001b[0m\u001b[0m\n",
      "\u001b[0;31mKeyboardInterrupt\u001b[0m: "
     ]
    }
   ],
   "source": [
    "mnist_fast(examples=1, mode='cifar')"
   ]
  },
  {
   "cell_type": "code",
   "execution_count": 3,
   "id": "3ba4ec20",
   "metadata": {},
   "outputs": [
    {
     "name": "stdout",
     "output_type": "stream",
     "text": [
      "-------Summary of model-------\n",
      "Input Layer, input shape = (1, 30, 30)\n",
      "Conv2D layer, input shape = (1, 30, 30), output shape = (5, 13, 13), weights shape = (5, 5, 1, 5)\n",
      "Activation layer, mode = square, input shape = (5, 13, 13), output shape = (5, 13, 13)\n",
      "Flatten layer, input shape = (5, 13, 13), output shape = (1, 1, 845)\n",
      "Dense layer, input shape = (1, 1, 845), output shape = (1, 1, 100), weights shape = (845, 100)\n",
      "Activation layer, mode = square, input shape = (1, 1, 100), output shape = (1, 1, 100)\n",
      "Dense layer, input shape = (1, 1, 100), output shape = (1, 1, 10), weights shape = (100, 10)\n",
      "\n"
     ]
    },
    {
     "name": "stderr",
     "output_type": "stream",
     "text": [
      " 20%|██        | 1/5 [00:00<00:00,  6.44it/s]"
     ]
    },
    {
     "name": "stdout",
     "output_type": "stream",
     "text": [
      "\u001b[97m\u001b[1mLayer 0\u001b[0m\u001b[92m::\u001b[0m\u001b[97m7.09999999948252e-06\u001b[0m\n"
     ]
    },
    {
     "name": "stderr",
     "output_type": "stream",
     "text": [
      "100%|██████████| 5/5 [00:00<00:00,  6.30it/s]\n",
      "  0%|          | 0/100 [00:00<?, ?it/s]"
     ]
    },
    {
     "name": "stdout",
     "output_type": "stream",
     "text": [
      "\u001b[94m\u001b[1mconv2d\u001b[0m\u001b[92m::\u001b[0m\u001b[94m#multCC: 125, #addPC: 5, #addCC: 0\u001b[0m\n",
      "\u001b[97m\u001b[1mLayer 1\u001b[0m\u001b[92m::\u001b[0m\u001b[97m0.7978030120000001\u001b[0m\n",
      "\u001b[94m\u001b[1msquare::\u001b[0m\u001b[92m::\u001b[0m\u001b[94m#mult-CC: 5\u001b[0m\n",
      "\u001b[97m\u001b[1mLayer 2\u001b[0m\u001b[92m::\u001b[0m\u001b[97m0.05705209599999961\u001b[0m\n",
      "\u001b[94m\u001b[1mflatten::\u001b[0m\u001b[92m::\u001b[0m\u001b[94m#rots: 4, #add-CC: 4\u001b[0m\n",
      "\u001b[97m\u001b[1mLayer 3\u001b[0m\u001b[92m::\u001b[0m\u001b[97m0.0750121840000002\u001b[0m\n"
     ]
    },
    {
     "name": "stderr",
     "output_type": "stream",
     "text": [
      "100%|██████████| 100/100 [00:02<00:00, 49.79it/s]\n",
      "100%|██████████| 10/10 [00:00<00:00, 142.28it/s]\n"
     ]
    },
    {
     "name": "stdout",
     "output_type": "stream",
     "text": [
      "\u001b[94m\u001b[1mdense\u001b[0m\u001b[92m::\u001b[0m\u001b[94m#rots: 104, #multPC: 100, #addCC: 103, #addPC: 1\u001b[0m\n",
      "\u001b[97m\u001b[1mLayer 4\u001b[0m\u001b[92m::\u001b[0m\u001b[97m2.0637870830000002\u001b[0m\n",
      "\u001b[94m\u001b[1msquare::\u001b[0m\u001b[92m::\u001b[0m\u001b[94m#mult-CC: 1\u001b[0m\n",
      "\u001b[97m\u001b[1mLayer 5\u001b[0m\u001b[92m::\u001b[0m\u001b[97m0.006884731999999616\u001b[0m\n",
      "\u001b[94m\u001b[1mdense\u001b[0m\u001b[92m::\u001b[0m\u001b[94m#rots: 14, #multPC: 10, #addCC: 13, #addPC: 1\u001b[0m\n",
      "\u001b[97m\u001b[1mLayer 6\u001b[0m\u001b[92m::\u001b[0m\u001b[97m0.08608794500000005\u001b[0m\n",
      "\u001b[97m\u001b[1mmnist_fast\u001b[0m\u001b[92m::\u001b[0m\u001b[97m3.0889864190000003\u001b[0m\n",
      "\u001b[97m\u001b[1mmnist_fast\u001b[0m\u001b[92m::\u001b[0m\u001b[97m7 7\u001b[0m\n"
     ]
    }
   ],
   "source": [
    "mnist_fast(examples=1, mode='normal')"
   ]
  },
  {
   "cell_type": "code",
   "execution_count": 5,
   "id": "115d7d5e",
   "metadata": {},
   "outputs": [
    {
     "name": "stderr",
     "output_type": "stream",
     "text": [
      "\r",
      "  0%|          | 0/5 [00:00<?, ?it/s]"
     ]
    },
    {
     "name": "stdout",
     "output_type": "stream",
     "text": [
      "-------Summary of model-------\n",
      "Input Layer, input shape = (1, 30, 30)\n",
      "Conv2D layer, input shape = (1, 30, 30), output shape = (5, 28, 28), weights shape = (3, 3, 1, 5)\n",
      "Activation layer, mode = square, input shape = (5, 28, 28), output shape = (5, 28, 28)\n",
      "Flatten layer, input shape = (5, 28, 28), output shape = (1, 1, 3920)\n",
      "Dense layer, input shape = (1, 1, 3920), output shape = (1, 1, 32), weights shape = (3920, 32)\n",
      "Activation layer, mode = square, input shape = (1, 1, 32), output shape = (1, 1, 32)\n",
      "Dense layer, input shape = (1, 1, 32), output shape = (1, 1, 10), weights shape = (32, 10)\n",
      "\n",
      "\u001b[97m\u001b[1mLayer 0\u001b[0m\u001b[92m::\u001b[0m\u001b[97m4.483000001442861e-06\u001b[0m\n"
     ]
    },
    {
     "name": "stderr",
     "output_type": "stream",
     "text": [
      "100%|██████████| 5/5 [00:00<00:00, 20.05it/s]\n",
      " 31%|███▏      | 10/32 [00:00<00:00, 90.22it/s]"
     ]
    },
    {
     "name": "stdout",
     "output_type": "stream",
     "text": [
      "\u001b[94m\u001b[1mconv2d\u001b[0m\u001b[92m::\u001b[0m\u001b[94m#multCC: 45, #addPC: 5, #addCC: 0\u001b[0m\n",
      "\u001b[97m\u001b[1mLayer 1\u001b[0m\u001b[92m::\u001b[0m\u001b[97m0.25180053799999946\u001b[0m\n",
      "\u001b[94m\u001b[1msquare::\u001b[0m\u001b[92m::\u001b[0m\u001b[94m#mult-CC: 5\u001b[0m\n",
      "\u001b[97m\u001b[1mLayer 2\u001b[0m\u001b[92m::\u001b[0m\u001b[97m0.044511374000000714\u001b[0m\n",
      "\u001b[94m\u001b[1mflatten::\u001b[0m\u001b[92m::\u001b[0m\u001b[94m#rots: 4, #add-CC: 4\u001b[0m\n",
      "\u001b[97m\u001b[1mLayer 3\u001b[0m\u001b[92m::\u001b[0m\u001b[97m0.05537612999999908\u001b[0m\n"
     ]
    },
    {
     "name": "stderr",
     "output_type": "stream",
     "text": [
      "100%|██████████| 32/32 [00:00<00:00, 68.77it/s]\n",
      "100%|██████████| 10/10 [00:00<00:00, 178.10it/s]\n",
      "  0%|          | 0/5 [00:00<?, ?it/s]"
     ]
    },
    {
     "name": "stdout",
     "output_type": "stream",
     "text": [
      "\u001b[94m\u001b[1mdense\u001b[0m\u001b[92m::\u001b[0m\u001b[94m#rots: 39, #multPC: 32, #addCC: 38, #addPC: 1\u001b[0m\n",
      "\u001b[97m\u001b[1mLayer 4\u001b[0m\u001b[92m::\u001b[0m\u001b[97m0.4936870839999994\u001b[0m\n",
      "\u001b[94m\u001b[1msquare::\u001b[0m\u001b[92m::\u001b[0m\u001b[94m#mult-CC: 1\u001b[0m\n",
      "\u001b[97m\u001b[1mLayer 5\u001b[0m\u001b[92m::\u001b[0m\u001b[97m0.004508312000000458\u001b[0m\n",
      "\u001b[94m\u001b[1mdense\u001b[0m\u001b[92m::\u001b[0m\u001b[94m#rots: 13, #multPC: 10, #addCC: 12, #addPC: 1\u001b[0m\n",
      "\u001b[97m\u001b[1mLayer 6\u001b[0m\u001b[92m::\u001b[0m\u001b[97m0.07006881500000084\u001b[0m\n",
      "\u001b[97m\u001b[1mmnist_fast\u001b[0m\u001b[92m::\u001b[0m\u001b[97m0.9210614869999993\u001b[0m\n",
      "\u001b[97m\u001b[1mmnist_fast\u001b[0m\u001b[92m::\u001b[0m\u001b[97m7 7\u001b[0m\n",
      "\u001b[97m\u001b[1mLayer 0\u001b[0m\u001b[92m::\u001b[0m\u001b[97m3.7790000000370583e-06\u001b[0m\n"
     ]
    },
    {
     "name": "stderr",
     "output_type": "stream",
     "text": [
      "100%|██████████| 5/5 [00:00<00:00, 19.73it/s]\n",
      " 28%|██▊       | 9/32 [00:00<00:00, 88.03it/s]"
     ]
    },
    {
     "name": "stdout",
     "output_type": "stream",
     "text": [
      "\u001b[94m\u001b[1mconv2d\u001b[0m\u001b[92m::\u001b[0m\u001b[94m#multCC: 45, #addPC: 5, #addCC: 0\u001b[0m\n",
      "\u001b[97m\u001b[1mLayer 1\u001b[0m\u001b[92m::\u001b[0m\u001b[97m0.2546471920000002\u001b[0m\n",
      "\u001b[94m\u001b[1msquare::\u001b[0m\u001b[92m::\u001b[0m\u001b[94m#mult-CC: 5\u001b[0m\n",
      "\u001b[97m\u001b[1mLayer 2\u001b[0m\u001b[92m::\u001b[0m\u001b[97m0.04337432799999874\u001b[0m\n",
      "\u001b[94m\u001b[1mflatten::\u001b[0m\u001b[92m::\u001b[0m\u001b[94m#rots: 4, #add-CC: 4\u001b[0m\n",
      "\u001b[97m\u001b[1mLayer 3\u001b[0m\u001b[92m::\u001b[0m\u001b[97m0.05623550000000144\u001b[0m\n"
     ]
    },
    {
     "name": "stderr",
     "output_type": "stream",
     "text": [
      "100%|██████████| 32/32 [00:00<00:00, 67.67it/s]\n",
      "100%|██████████| 10/10 [00:00<00:00, 173.50it/s]\n",
      "  0%|          | 0/5 [00:00<?, ?it/s]"
     ]
    },
    {
     "name": "stdout",
     "output_type": "stream",
     "text": [
      "\u001b[94m\u001b[1mdense\u001b[0m\u001b[92m::\u001b[0m\u001b[94m#rots: 39, #multPC: 32, #addCC: 38, #addPC: 1\u001b[0m\n",
      "\u001b[97m\u001b[1mLayer 4\u001b[0m\u001b[92m::\u001b[0m\u001b[97m0.5009690279999983\u001b[0m\n",
      "\u001b[94m\u001b[1msquare::\u001b[0m\u001b[92m::\u001b[0m\u001b[94m#mult-CC: 1\u001b[0m\n",
      "\u001b[97m\u001b[1mLayer 5\u001b[0m\u001b[92m::\u001b[0m\u001b[97m0.004544281000001149\u001b[0m\n",
      "\u001b[94m\u001b[1mdense\u001b[0m\u001b[92m::\u001b[0m\u001b[94m#rots: 13, #multPC: 10, #addCC: 12, #addPC: 1\u001b[0m\n",
      "\u001b[97m\u001b[1mLayer 6\u001b[0m\u001b[92m::\u001b[0m\u001b[97m0.0701252960000005\u001b[0m\n",
      "\u001b[97m\u001b[1mmnist_fast\u001b[0m\u001b[92m::\u001b[0m\u001b[97m0.9305833850000003\u001b[0m\n",
      "\u001b[97m\u001b[1mmnist_fast\u001b[0m\u001b[92m::\u001b[0m\u001b[97m2 2\u001b[0m\n",
      "\u001b[97m\u001b[1mLayer 0\u001b[0m\u001b[92m::\u001b[0m\u001b[97m3.709999999657043e-06\u001b[0m\n"
     ]
    },
    {
     "name": "stderr",
     "output_type": "stream",
     "text": [
      "100%|██████████| 5/5 [00:00<00:00, 18.91it/s]\n",
      " 28%|██▊       | 9/32 [00:00<00:00, 87.30it/s]"
     ]
    },
    {
     "name": "stdout",
     "output_type": "stream",
     "text": [
      "\u001b[94m\u001b[1mconv2d\u001b[0m\u001b[92m::\u001b[0m\u001b[94m#multCC: 45, #addPC: 5, #addCC: 0\u001b[0m\n",
      "\u001b[97m\u001b[1mLayer 1\u001b[0m\u001b[92m::\u001b[0m\u001b[97m0.2672353919999999\u001b[0m\n",
      "\u001b[94m\u001b[1msquare::\u001b[0m\u001b[92m::\u001b[0m\u001b[94m#mult-CC: 5\u001b[0m\n",
      "\u001b[97m\u001b[1mLayer 2\u001b[0m\u001b[92m::\u001b[0m\u001b[97m0.043410563000000124\u001b[0m\n",
      "\u001b[94m\u001b[1mflatten::\u001b[0m\u001b[92m::\u001b[0m\u001b[94m#rots: 4, #add-CC: 4\u001b[0m\n",
      "\u001b[97m\u001b[1mLayer 3\u001b[0m\u001b[92m::\u001b[0m\u001b[97m0.05658412900000087\u001b[0m\n"
     ]
    },
    {
     "name": "stderr",
     "output_type": "stream",
     "text": [
      "100%|██████████| 32/32 [00:00<00:00, 67.54it/s]\n",
      "100%|██████████| 10/10 [00:00<00:00, 178.51it/s]\n",
      "  0%|          | 0/5 [00:00<?, ?it/s]"
     ]
    },
    {
     "name": "stdout",
     "output_type": "stream",
     "text": [
      "\u001b[94m\u001b[1mdense\u001b[0m\u001b[92m::\u001b[0m\u001b[94m#rots: 39, #multPC: 32, #addCC: 38, #addPC: 1\u001b[0m\n",
      "\u001b[97m\u001b[1mLayer 4\u001b[0m\u001b[92m::\u001b[0m\u001b[97m0.5022756609999988\u001b[0m\n",
      "\u001b[94m\u001b[1msquare::\u001b[0m\u001b[92m::\u001b[0m\u001b[94m#mult-CC: 1\u001b[0m\n",
      "\u001b[97m\u001b[1mLayer 5\u001b[0m\u001b[92m::\u001b[0m\u001b[97m0.004532725000000681\u001b[0m\n",
      "\u001b[94m\u001b[1mdense\u001b[0m\u001b[92m::\u001b[0m\u001b[94m#rots: 13, #multPC: 10, #addCC: 12, #addPC: 1\u001b[0m\n",
      "\u001b[97m\u001b[1mLayer 6\u001b[0m\u001b[92m::\u001b[0m\u001b[97m0.06967219100000044\u001b[0m\n",
      "\u001b[97m\u001b[1mmnist_fast\u001b[0m\u001b[92m::\u001b[0m\u001b[97m0.9444050210000015\u001b[0m\n",
      "\u001b[97m\u001b[1mmnist_fast\u001b[0m\u001b[92m::\u001b[0m\u001b[97m1 1\u001b[0m\n",
      "\u001b[97m\u001b[1mLayer 0\u001b[0m\u001b[92m::\u001b[0m\u001b[97m5.366999999978361e-06\u001b[0m\n"
     ]
    },
    {
     "name": "stderr",
     "output_type": "stream",
     "text": [
      "100%|██████████| 5/5 [00:00<00:00, 19.82it/s]\n",
      " 53%|█████▎    | 17/32 [00:00<00:00, 81.05it/s]"
     ]
    },
    {
     "name": "stdout",
     "output_type": "stream",
     "text": [
      "\u001b[94m\u001b[1mconv2d\u001b[0m\u001b[92m::\u001b[0m\u001b[94m#multCC: 45, #addPC: 5, #addCC: 0\u001b[0m\n",
      "\u001b[97m\u001b[1mLayer 1\u001b[0m\u001b[92m::\u001b[0m\u001b[97m0.255572806\u001b[0m\n",
      "\u001b[94m\u001b[1msquare::\u001b[0m\u001b[92m::\u001b[0m\u001b[94m#mult-CC: 5\u001b[0m\n",
      "\u001b[97m\u001b[1mLayer 2\u001b[0m\u001b[92m::\u001b[0m\u001b[97m0.04311431999999904\u001b[0m\n",
      "\u001b[94m\u001b[1mflatten::\u001b[0m\u001b[92m::\u001b[0m\u001b[94m#rots: 4, #add-CC: 4\u001b[0m\n",
      "\u001b[97m\u001b[1mLayer 3\u001b[0m\u001b[92m::\u001b[0m\u001b[97m0.05651670299999978\u001b[0m\n"
     ]
    },
    {
     "name": "stderr",
     "output_type": "stream",
     "text": [
      "100%|██████████| 32/32 [00:00<00:00, 68.01it/s]\n",
      "100%|██████████| 10/10 [00:00<00:00, 178.42it/s]\n",
      "  0%|          | 0/5 [00:00<?, ?it/s]"
     ]
    },
    {
     "name": "stdout",
     "output_type": "stream",
     "text": [
      "\u001b[94m\u001b[1mdense\u001b[0m\u001b[92m::\u001b[0m\u001b[94m#rots: 39, #multPC: 32, #addCC: 38, #addPC: 1\u001b[0m\n",
      "\u001b[97m\u001b[1mLayer 4\u001b[0m\u001b[92m::\u001b[0m\u001b[97m0.5002610490000006\u001b[0m\n",
      "\u001b[94m\u001b[1msquare::\u001b[0m\u001b[92m::\u001b[0m\u001b[94m#mult-CC: 1\u001b[0m\n",
      "\u001b[97m\u001b[1mLayer 5\u001b[0m\u001b[92m::\u001b[0m\u001b[97m0.004519514000000058\u001b[0m\n",
      "\u001b[94m\u001b[1mdense\u001b[0m\u001b[92m::\u001b[0m\u001b[94m#rots: 13, #multPC: 10, #addCC: 12, #addPC: 1\u001b[0m\n",
      "\u001b[97m\u001b[1mLayer 6\u001b[0m\u001b[92m::\u001b[0m\u001b[97m0.0703227799999997\u001b[0m\n",
      "\u001b[97m\u001b[1mmnist_fast\u001b[0m\u001b[92m::\u001b[0m\u001b[97m0.9312934460000015\u001b[0m\n",
      "\u001b[97m\u001b[1mmnist_fast\u001b[0m\u001b[92m::\u001b[0m\u001b[97m0 0\u001b[0m\n",
      "\u001b[97m\u001b[1mLayer 0\u001b[0m\u001b[92m::\u001b[0m\u001b[97m3.8040000021055675e-06\u001b[0m\n"
     ]
    },
    {
     "name": "stderr",
     "output_type": "stream",
     "text": [
      "100%|██████████| 5/5 [00:00<00:00, 19.27it/s]\n",
      " 28%|██▊       | 9/32 [00:00<00:00, 89.33it/s]"
     ]
    },
    {
     "name": "stdout",
     "output_type": "stream",
     "text": [
      "\u001b[94m\u001b[1mconv2d\u001b[0m\u001b[92m::\u001b[0m\u001b[94m#multCC: 45, #addPC: 5, #addCC: 0\u001b[0m\n",
      "\u001b[97m\u001b[1mLayer 1\u001b[0m\u001b[92m::\u001b[0m\u001b[97m0.2621749489999985\u001b[0m\n",
      "\u001b[94m\u001b[1msquare::\u001b[0m\u001b[92m::\u001b[0m\u001b[94m#mult-CC: 5\u001b[0m\n",
      "\u001b[97m\u001b[1mLayer 2\u001b[0m\u001b[92m::\u001b[0m\u001b[97m0.043444769000000605\u001b[0m\n",
      "\u001b[94m\u001b[1mflatten::\u001b[0m\u001b[92m::\u001b[0m\u001b[94m#rots: 4, #add-CC: 4\u001b[0m\n",
      "\u001b[97m\u001b[1mLayer 3\u001b[0m\u001b[92m::\u001b[0m\u001b[97m0.05669635799999995\u001b[0m\n"
     ]
    },
    {
     "name": "stderr",
     "output_type": "stream",
     "text": [
      "100%|██████████| 32/32 [00:00<00:00, 67.42it/s]\n",
      "100%|██████████| 10/10 [00:00<00:00, 176.51it/s]\n",
      "  0%|          | 0/5 [00:00<?, ?it/s]"
     ]
    },
    {
     "name": "stdout",
     "output_type": "stream",
     "text": [
      "\u001b[94m\u001b[1mdense\u001b[0m\u001b[92m::\u001b[0m\u001b[94m#rots: 39, #multPC: 32, #addCC: 38, #addPC: 1\u001b[0m\n",
      "\u001b[97m\u001b[1mLayer 4\u001b[0m\u001b[92m::\u001b[0m\u001b[97m0.5036209340000006\u001b[0m\n",
      "\u001b[94m\u001b[1msquare::\u001b[0m\u001b[92m::\u001b[0m\u001b[94m#mult-CC: 1\u001b[0m\n",
      "\u001b[97m\u001b[1mLayer 5\u001b[0m\u001b[92m::\u001b[0m\u001b[97m0.0045108739999975\u001b[0m\n",
      "\u001b[94m\u001b[1mdense\u001b[0m\u001b[92m::\u001b[0m\u001b[94m#rots: 13, #multPC: 10, #addCC: 12, #addPC: 1\u001b[0m\n",
      "\u001b[97m\u001b[1mLayer 6\u001b[0m\u001b[92m::\u001b[0m\u001b[97m0.0700328550000009\u001b[0m\n",
      "\u001b[97m\u001b[1mmnist_fast\u001b[0m\u001b[92m::\u001b[0m\u001b[97m0.9421801609999996\u001b[0m\n",
      "\u001b[97m\u001b[1mmnist_fast\u001b[0m\u001b[92m::\u001b[0m\u001b[97m4 4\u001b[0m\n",
      "\u001b[97m\u001b[1mLayer 0\u001b[0m\u001b[92m::\u001b[0m\u001b[97m4.38100000010877e-06\u001b[0m\n"
     ]
    },
    {
     "name": "stderr",
     "output_type": "stream",
     "text": [
      "100%|██████████| 5/5 [00:00<00:00, 19.78it/s]\n",
      " 53%|█████▎    | 17/32 [00:00<00:00, 81.19it/s]"
     ]
    },
    {
     "name": "stdout",
     "output_type": "stream",
     "text": [
      "\u001b[94m\u001b[1mconv2d\u001b[0m\u001b[92m::\u001b[0m\u001b[94m#multCC: 45, #addPC: 5, #addCC: 0\u001b[0m\n",
      "\u001b[97m\u001b[1mLayer 1\u001b[0m\u001b[92m::\u001b[0m\u001b[97m0.25516620100000154\u001b[0m\n",
      "\u001b[94m\u001b[1msquare::\u001b[0m\u001b[92m::\u001b[0m\u001b[94m#mult-CC: 5\u001b[0m\n",
      "\u001b[97m\u001b[1mLayer 2\u001b[0m\u001b[92m::\u001b[0m\u001b[97m0.043505438000000396\u001b[0m\n",
      "\u001b[94m\u001b[1mflatten::\u001b[0m\u001b[92m::\u001b[0m\u001b[94m#rots: 4, #add-CC: 4\u001b[0m\n",
      "\u001b[97m\u001b[1mLayer 3\u001b[0m\u001b[92m::\u001b[0m\u001b[97m0.05610127299999945\u001b[0m\n"
     ]
    },
    {
     "name": "stderr",
     "output_type": "stream",
     "text": [
      "100%|██████████| 32/32 [00:00<00:00, 68.21it/s]\n",
      "100%|██████████| 10/10 [00:00<00:00, 178.42it/s]\n",
      "  0%|          | 0/5 [00:00<?, ?it/s]"
     ]
    },
    {
     "name": "stdout",
     "output_type": "stream",
     "text": [
      "\u001b[94m\u001b[1mdense\u001b[0m\u001b[92m::\u001b[0m\u001b[94m#rots: 39, #multPC: 32, #addCC: 38, #addPC: 1\u001b[0m\n",
      "\u001b[97m\u001b[1mLayer 4\u001b[0m\u001b[92m::\u001b[0m\u001b[97m0.49848942999999935\u001b[0m\n",
      "\u001b[94m\u001b[1msquare::\u001b[0m\u001b[92m::\u001b[0m\u001b[94m#mult-CC: 1\u001b[0m\n",
      "\u001b[97m\u001b[1mLayer 5\u001b[0m\u001b[92m::\u001b[0m\u001b[97m0.0047640659999999\u001b[0m\n",
      "\u001b[94m\u001b[1mdense\u001b[0m\u001b[92m::\u001b[0m\u001b[94m#rots: 13, #multPC: 10, #addCC: 12, #addPC: 1\u001b[0m\n",
      "\u001b[97m\u001b[1mLayer 6\u001b[0m\u001b[92m::\u001b[0m\u001b[97m0.06871138600000037\u001b[0m\n",
      "\u001b[97m\u001b[1mmnist_fast\u001b[0m\u001b[92m::\u001b[0m\u001b[97m0.9274464620000025\u001b[0m\n",
      "\u001b[97m\u001b[1mmnist_fast\u001b[0m\u001b[92m::\u001b[0m\u001b[97m1 1\u001b[0m\n",
      "\u001b[97m\u001b[1mLayer 0\u001b[0m\u001b[92m::\u001b[0m\u001b[97m3.8949999989768e-06\u001b[0m\n"
     ]
    },
    {
     "name": "stderr",
     "output_type": "stream",
     "text": [
      "100%|██████████| 5/5 [00:00<00:00, 19.80it/s]\n",
      " 50%|█████     | 16/32 [00:00<00:00, 79.86it/s]"
     ]
    },
    {
     "name": "stdout",
     "output_type": "stream",
     "text": [
      "\u001b[94m\u001b[1mconv2d\u001b[0m\u001b[92m::\u001b[0m\u001b[94m#multCC: 45, #addPC: 5, #addCC: 0\u001b[0m\n",
      "\u001b[97m\u001b[1mLayer 1\u001b[0m\u001b[92m::\u001b[0m\u001b[97m0.25531232599999854\u001b[0m\n",
      "\u001b[94m\u001b[1msquare::\u001b[0m\u001b[92m::\u001b[0m\u001b[94m#mult-CC: 5\u001b[0m\n",
      "\u001b[97m\u001b[1mLayer 2\u001b[0m\u001b[92m::\u001b[0m\u001b[97m0.045428104999999164\u001b[0m\n",
      "\u001b[94m\u001b[1mflatten::\u001b[0m\u001b[92m::\u001b[0m\u001b[94m#rots: 4, #add-CC: 4\u001b[0m\n",
      "\u001b[97m\u001b[1mLayer 3\u001b[0m\u001b[92m::\u001b[0m\u001b[97m0.05680537799999996\u001b[0m\n"
     ]
    },
    {
     "name": "stderr",
     "output_type": "stream",
     "text": [
      "100%|██████████| 32/32 [00:00<00:00, 68.11it/s]\n",
      "100%|██████████| 10/10 [00:00<00:00, 176.55it/s]\n",
      "  0%|          | 0/5 [00:00<?, ?it/s]"
     ]
    },
    {
     "name": "stdout",
     "output_type": "stream",
     "text": [
      "\u001b[94m\u001b[1mdense\u001b[0m\u001b[92m::\u001b[0m\u001b[94m#rots: 39, #multPC: 32, #addCC: 38, #addPC: 1\u001b[0m\n",
      "\u001b[97m\u001b[1mLayer 4\u001b[0m\u001b[92m::\u001b[0m\u001b[97m0.4979232770000017\u001b[0m\n",
      "\u001b[94m\u001b[1msquare::\u001b[0m\u001b[92m::\u001b[0m\u001b[94m#mult-CC: 1\u001b[0m\n",
      "\u001b[97m\u001b[1mLayer 5\u001b[0m\u001b[92m::\u001b[0m\u001b[97m0.004509840000000764\u001b[0m\n",
      "\u001b[94m\u001b[1mdense\u001b[0m\u001b[92m::\u001b[0m\u001b[94m#rots: 13, #multPC: 10, #addCC: 12, #addPC: 1\u001b[0m\n",
      "\u001b[97m\u001b[1mLayer 6\u001b[0m\u001b[92m::\u001b[0m\u001b[97m0.06939174500000078\u001b[0m\n",
      "\u001b[97m\u001b[1mmnist_fast\u001b[0m\u001b[92m::\u001b[0m\u001b[97m0.9302019749999992\u001b[0m\n",
      "\u001b[97m\u001b[1mmnist_fast\u001b[0m\u001b[92m::\u001b[0m\u001b[97m4 4\u001b[0m\n",
      "\u001b[97m\u001b[1mLayer 0\u001b[0m\u001b[92m::\u001b[0m\u001b[97m3.6500000000216914e-06\u001b[0m\n"
     ]
    },
    {
     "name": "stderr",
     "output_type": "stream",
     "text": [
      "100%|██████████| 5/5 [00:00<00:00, 20.01it/s]\n",
      " 31%|███▏      | 10/32 [00:00<00:00, 88.07it/s]"
     ]
    },
    {
     "name": "stdout",
     "output_type": "stream",
     "text": [
      "\u001b[94m\u001b[1mconv2d\u001b[0m\u001b[92m::\u001b[0m\u001b[94m#multCC: 45, #addPC: 5, #addCC: 0\u001b[0m\n",
      "\u001b[97m\u001b[1mLayer 1\u001b[0m\u001b[92m::\u001b[0m\u001b[97m0.25265630799999883\u001b[0m\n",
      "\u001b[94m\u001b[1msquare::\u001b[0m\u001b[92m::\u001b[0m\u001b[94m#mult-CC: 5\u001b[0m\n",
      "\u001b[97m\u001b[1mLayer 2\u001b[0m\u001b[92m::\u001b[0m\u001b[97m0.04439587499999931\u001b[0m\n",
      "\u001b[94m\u001b[1mflatten::\u001b[0m\u001b[92m::\u001b[0m\u001b[94m#rots: 4, #add-CC: 4\u001b[0m\n",
      "\u001b[97m\u001b[1mLayer 3\u001b[0m\u001b[92m::\u001b[0m\u001b[97m0.05721028700000019\u001b[0m\n"
     ]
    },
    {
     "name": "stderr",
     "output_type": "stream",
     "text": [
      "100%|██████████| 32/32 [00:00<00:00, 67.86it/s]\n",
      "100%|██████████| 10/10 [00:00<00:00, 176.95it/s]\n",
      "  0%|          | 0/5 [00:00<?, ?it/s]"
     ]
    },
    {
     "name": "stdout",
     "output_type": "stream",
     "text": [
      "\u001b[94m\u001b[1mdense\u001b[0m\u001b[92m::\u001b[0m\u001b[94m#rots: 39, #multPC: 32, #addCC: 38, #addPC: 1\u001b[0m\n",
      "\u001b[97m\u001b[1mLayer 4\u001b[0m\u001b[92m::\u001b[0m\u001b[97m0.4998008089999999\u001b[0m\n",
      "\u001b[94m\u001b[1msquare::\u001b[0m\u001b[92m::\u001b[0m\u001b[94m#mult-CC: 1\u001b[0m\n",
      "\u001b[97m\u001b[1mLayer 5\u001b[0m\u001b[92m::\u001b[0m\u001b[97m0.004509492000000392\u001b[0m\n",
      "\u001b[94m\u001b[1mdense\u001b[0m\u001b[92m::\u001b[0m\u001b[94m#rots: 13, #multPC: 10, #addCC: 12, #addPC: 1\u001b[0m\n",
      "\u001b[97m\u001b[1mLayer 6\u001b[0m\u001b[92m::\u001b[0m\u001b[97m0.0701043410000004\u001b[0m\n",
      "\u001b[97m\u001b[1mmnist_fast\u001b[0m\u001b[92m::\u001b[0m\u001b[97m0.9294697460000023\u001b[0m\n",
      "\u001b[97m\u001b[1mmnist_fast\u001b[0m\u001b[92m::\u001b[0m\u001b[97m9 9\u001b[0m\n",
      "\u001b[97m\u001b[1mLayer 0\u001b[0m\u001b[92m::\u001b[0m\u001b[97m3.4470000009889645e-06\u001b[0m\n"
     ]
    },
    {
     "name": "stderr",
     "output_type": "stream",
     "text": [
      "100%|██████████| 5/5 [00:00<00:00, 20.08it/s]\n",
      " 53%|█████▎    | 17/32 [00:00<00:00, 81.51it/s]"
     ]
    },
    {
     "name": "stdout",
     "output_type": "stream",
     "text": [
      "\u001b[94m\u001b[1mconv2d\u001b[0m\u001b[92m::\u001b[0m\u001b[94m#multCC: 45, #addPC: 5, #addCC: 0\u001b[0m\n",
      "\u001b[97m\u001b[1mLayer 1\u001b[0m\u001b[92m::\u001b[0m\u001b[97m0.25182144800000117\u001b[0m\n",
      "\u001b[94m\u001b[1msquare::\u001b[0m\u001b[92m::\u001b[0m\u001b[94m#mult-CC: 5\u001b[0m\n",
      "\u001b[97m\u001b[1mLayer 2\u001b[0m\u001b[92m::\u001b[0m\u001b[97m0.04353082499999772\u001b[0m\n",
      "\u001b[94m\u001b[1mflatten::\u001b[0m\u001b[92m::\u001b[0m\u001b[94m#rots: 4, #add-CC: 4\u001b[0m\n",
      "\u001b[97m\u001b[1mLayer 3\u001b[0m\u001b[92m::\u001b[0m\u001b[97m0.05672304700000197\u001b[0m\n"
     ]
    },
    {
     "name": "stderr",
     "output_type": "stream",
     "text": [
      "100%|██████████| 32/32 [00:00<00:00, 68.84it/s]\n",
      "100%|██████████| 10/10 [00:00<00:00, 179.58it/s]\n",
      "  0%|          | 0/5 [00:00<?, ?it/s]"
     ]
    },
    {
     "name": "stdout",
     "output_type": "stream",
     "text": [
      "\u001b[94m\u001b[1mdense\u001b[0m\u001b[92m::\u001b[0m\u001b[94m#rots: 39, #multPC: 32, #addCC: 38, #addPC: 1\u001b[0m\n",
      "\u001b[97m\u001b[1mLayer 4\u001b[0m\u001b[92m::\u001b[0m\u001b[97m0.4930136350000005\u001b[0m\n",
      "\u001b[94m\u001b[1msquare::\u001b[0m\u001b[92m::\u001b[0m\u001b[94m#mult-CC: 1\u001b[0m\n",
      "\u001b[97m\u001b[1mLayer 5\u001b[0m\u001b[92m::\u001b[0m\u001b[97m0.004514385000000232\u001b[0m\n",
      "\u001b[94m\u001b[1mdense\u001b[0m\u001b[92m::\u001b[0m\u001b[94m#rots: 13, #multPC: 10, #addCC: 12, #addPC: 1\u001b[0m\n",
      "\u001b[97m\u001b[1mLayer 6\u001b[0m\u001b[92m::\u001b[0m\u001b[97m0.0685121389999992\u001b[0m\n",
      "\u001b[97m\u001b[1mmnist_fast\u001b[0m\u001b[92m::\u001b[0m\u001b[97m0.9189069769999989\u001b[0m\n",
      "\u001b[97m\u001b[1mmnist_fast\u001b[0m\u001b[92m::\u001b[0m\u001b[97m5 5\u001b[0m\n",
      "\u001b[97m\u001b[1mLayer 0\u001b[0m\u001b[92m::\u001b[0m\u001b[97m3.5019999984342576e-06\u001b[0m\n"
     ]
    },
    {
     "name": "stderr",
     "output_type": "stream",
     "text": [
      "100%|██████████| 5/5 [00:00<00:00, 20.13it/s]\n",
      " 31%|███▏      | 10/32 [00:00<00:00, 88.22it/s]"
     ]
    },
    {
     "name": "stdout",
     "output_type": "stream",
     "text": [
      "\u001b[94m\u001b[1mconv2d\u001b[0m\u001b[92m::\u001b[0m\u001b[94m#multCC: 45, #addPC: 5, #addCC: 0\u001b[0m\n",
      "\u001b[97m\u001b[1mLayer 1\u001b[0m\u001b[92m::\u001b[0m\u001b[97m0.25105205200000213\u001b[0m\n",
      "\u001b[94m\u001b[1msquare::\u001b[0m\u001b[92m::\u001b[0m\u001b[94m#mult-CC: 5\u001b[0m\n",
      "\u001b[97m\u001b[1mLayer 2\u001b[0m\u001b[92m::\u001b[0m\u001b[97m0.04298339700000042\u001b[0m\n",
      "\u001b[94m\u001b[1mflatten::\u001b[0m\u001b[92m::\u001b[0m\u001b[94m#rots: 4, #add-CC: 4\u001b[0m\n",
      "\u001b[97m\u001b[1mLayer 3\u001b[0m\u001b[92m::\u001b[0m\u001b[97m0.05596937099999977\u001b[0m\n"
     ]
    },
    {
     "name": "stderr",
     "output_type": "stream",
     "text": [
      "100%|██████████| 32/32 [00:00<00:00, 68.38it/s]\n",
      "100%|██████████| 10/10 [00:00<00:00, 178.45it/s]"
     ]
    },
    {
     "name": "stdout",
     "output_type": "stream",
     "text": [
      "\u001b[94m\u001b[1mdense\u001b[0m\u001b[92m::\u001b[0m\u001b[94m#rots: 39, #multPC: 32, #addCC: 38, #addPC: 1\u001b[0m\n",
      "\u001b[97m\u001b[1mLayer 4\u001b[0m\u001b[92m::\u001b[0m\u001b[97m0.4960499829999989\u001b[0m\n",
      "\u001b[94m\u001b[1msquare::\u001b[0m\u001b[92m::\u001b[0m\u001b[94m#mult-CC: 1\u001b[0m\n",
      "\u001b[97m\u001b[1mLayer 5\u001b[0m\u001b[92m::\u001b[0m\u001b[97m0.004587438999998028\u001b[0m\n",
      "\u001b[94m\u001b[1mdense\u001b[0m\u001b[92m::\u001b[0m\u001b[94m#rots: 13, #multPC: 10, #addCC: 12, #addPC: 1\u001b[0m\n",
      "\u001b[97m\u001b[1mLayer 6\u001b[0m\u001b[92m::\u001b[0m\u001b[97m0.06923310300000196\u001b[0m\n",
      "\u001b[97m\u001b[1mmnist_fast\u001b[0m\u001b[92m::\u001b[0m\u001b[97m0.9207233539999997\u001b[0m\n",
      "\u001b[97m\u001b[1mmnist_fast\u001b[0m\u001b[92m::\u001b[0m\u001b[97m9 9\u001b[0m\n"
     ]
    },
    {
     "name": "stderr",
     "output_type": "stream",
     "text": [
      "\n"
     ]
    }
   ],
   "source": [
    "mnist_fast(examples=10, mode='opt')"
   ]
  },
  {
   "cell_type": "markdown",
   "id": "a15460e8",
   "metadata": {},
   "source": [
    "### MNIST-SIMD"
   ]
  },
  {
   "cell_type": "markdown",
   "id": "636b4b7b",
   "metadata": {},
   "source": [
    "### Base model"
   ]
  },
  {
   "cell_type": "code",
   "execution_count": 8,
   "id": "053be7c3",
   "metadata": {},
   "outputs": [],
   "source": [
    "N = 8192 * 2\n",
    "scheme = get_ckks_scheme(N, primes=[60, 50, 50, 50, 50, 50, 60], scale_factor=50)\n",
    "creator = Creator(scheme)"
   ]
  },
  {
   "cell_type": "code",
   "execution_count": 9,
   "id": "fc970b38",
   "metadata": {},
   "outputs": [
    {
     "name": "stdout",
     "output_type": "stream",
     "text": [
      "-------Summary of model-------\n",
      "Input Layer, input shape = (1, 30, 30)\n",
      "Conv2D layer, input shape = (1, 30, 30), output shape = (5, 13, 13), weights shape = (5, 5, 1, 5)\n",
      "Activation layer, mode = square, input shape = (5, 13, 13), output shape = (5, 13, 13)\n",
      "Flatten layer, input shape = (5, 13, 13), output shape = (1, 1, 845)\n",
      "Dense layer, input shape = (1, 1, 845), output shape = (1, 1, 100), weights shape = (845, 100)\n",
      "Activation layer, mode = square, input shape = (1, 1, 100), output shape = (1, 1, 100)\n",
      "Dense layer, input shape = (1, 1, 100), output shape = (1, 1, 10), weights shape = (100, 10)\n",
      "\n"
     ]
    }
   ],
   "source": [
    "model = Model(creator)\n",
    "model.add(InputLayer(input_shape=(1, 30, 30)))\n",
    "model.add(ConvLayer(kernel_size=(5, 5), stride=2, padding=0, num_maps=5))\n",
    "model.add(ActivationLayer(mode='square'))\n",
    "model.add(Flatten(groups=1))\n",
    "model.add(DenseLayer(output_length=100))\n",
    "model.add(ActivationLayer(mode='square'))\n",
    "model.add(DenseLayer(output_length=10))\n",
    "\n",
    "weights, test_features, preds_base, outputs_base = load_data(name='MNIST-CRYPTONETS')\n",
    "\n",
    "test_features = test_features[:N // 2]\n",
    "preds_base = preds_base[:N // 2]\n",
    "outputs_base = outputs_base[:N // 2]\n",
    "\n",
    "test_features = ZeroPadding2D()(test_features).numpy()\n",
    "\n",
    "model.compile(data_mode=0)\n",
    "model.load_weights(weights, scale=16)\n",
    "model.summary()"
   ]
  },
  {
   "cell_type": "code",
   "execution_count": 10,
   "id": "16f026e1",
   "metadata": {
    "scrolled": true
   },
   "outputs": [
    {
     "name": "stderr",
     "output_type": "stream",
     "text": [
      "  1%|          | 5/900 [00:00<00:18, 49.44it/s]"
     ]
    },
    {
     "name": "stdout",
     "output_type": "stream",
     "text": [
      "Encrypting 8192 items\n"
     ]
    },
    {
     "name": "stderr",
     "output_type": "stream",
     "text": [
      "100%|██████████| 900/900 [00:15<00:00, 57.06it/s]\n",
      "  0%|          | 0/845 [00:00<?, ?it/s]"
     ]
    },
    {
     "name": "stdout",
     "output_type": "stream",
     "text": [
      "\u001b[97m\u001b[1mLayer 0\u001b[0m\u001b[92m::\u001b[0m\u001b[97m1.5184000005774578e-05\u001b[0m\n"
     ]
    },
    {
     "name": "stderr",
     "output_type": "stream",
     "text": [
      "100%|██████████| 845/845 [04:08<00:00,  3.40it/s]\n"
     ]
    },
    {
     "name": "stdout",
     "output_type": "stream",
     "text": [
      "\u001b[97m\u001b[1mLayer 1\u001b[0m\u001b[92m::\u001b[0m\u001b[97m251.069524038\u001b[0m\n",
      "\u001b[94m\u001b[1msquare::\u001b[0m\u001b[92m::\u001b[0m\u001b[94m#mult-CC: 845\u001b[0m\n",
      "\u001b[97m\u001b[1mLayer 2\u001b[0m\u001b[92m::\u001b[0m\u001b[97m17.56246113200001\u001b[0m\n",
      "-----Applying flatten layer-----\n",
      "\u001b[97m\u001b[1mLayer 3\u001b[0m\u001b[92m::\u001b[0m\u001b[97m0.0009726789999717766\u001b[0m\n",
      "-----Applying dense layer-----\n"
     ]
    },
    {
     "name": "stderr",
     "output_type": "stream",
     "text": [
      "100%|██████████| 100/100 [11:04<00:00,  6.64s/it]\n"
     ]
    },
    {
     "name": "stdout",
     "output_type": "stream",
     "text": [
      "Adding biases\n",
      "\u001b[97m\u001b[1mLayer 4\u001b[0m\u001b[92m::\u001b[0m\u001b[97m670.115942925\u001b[0m\n"
     ]
    },
    {
     "name": "stderr",
     "output_type": "stream",
     "text": [
      "\r",
      "  0%|          | 0/10 [00:00<?, ?it/s]"
     ]
    },
    {
     "name": "stdout",
     "output_type": "stream",
     "text": [
      "\u001b[94m\u001b[1msquare::\u001b[0m\u001b[92m::\u001b[0m\u001b[94m#mult-CC: 100\u001b[0m\n",
      "\u001b[97m\u001b[1mLayer 5\u001b[0m\u001b[92m::\u001b[0m\u001b[97m0.9335621830000491\u001b[0m\n",
      "-----Applying dense layer-----\n"
     ]
    },
    {
     "name": "stderr",
     "output_type": "stream",
     "text": [
      "100%|██████████| 10/10 [00:05<00:00,  1.96it/s]"
     ]
    },
    {
     "name": "stdout",
     "output_type": "stream",
     "text": [
      "Adding biases\n",
      "\u001b[97m\u001b[1mLayer 6\u001b[0m\u001b[92m::\u001b[0m\u001b[97m5.312347123999871\u001b[0m\n"
     ]
    },
    {
     "name": "stderr",
     "output_type": "stream",
     "text": [
      "\n"
     ]
    }
   ],
   "source": [
    "print('Encrypting %s items' % len(test_features))\n",
    "\n",
    "outputs = model.predict(input_data=creator.encrypt_simd(mat=test_features),\n",
    "                             creator=creator, classes=N // 2)"
   ]
  },
  {
   "cell_type": "code",
   "execution_count": 11,
   "id": "14c370c9",
   "metadata": {},
   "outputs": [
    {
     "data": {
      "text/plain": [
       "(1, 10, 8192)"
      ]
     },
     "execution_count": 11,
     "metadata": {},
     "output_type": "execute_result"
    }
   ],
   "source": [
    "outputs.shape"
   ]
  },
  {
   "cell_type": "code",
   "execution_count": 12,
   "id": "620a65f7",
   "metadata": {},
   "outputs": [
    {
     "data": {
      "text/plain": [
       "(8192,)"
      ]
     },
     "execution_count": 12,
     "metadata": {},
     "output_type": "execute_result"
    }
   ],
   "source": [
    "classes = np.argmax(outputs, axis=1)[0]\n",
    "classes.shape"
   ]
  },
  {
   "cell_type": "code",
   "execution_count": 13,
   "id": "4b972b31",
   "metadata": {},
   "outputs": [
    {
     "data": {
      "text/plain": [
       "(8192,)"
      ]
     },
     "execution_count": 13,
     "metadata": {},
     "output_type": "execute_result"
    }
   ],
   "source": [
    "preds_base.shape"
   ]
  },
  {
   "cell_type": "code",
   "execution_count": 14,
   "id": "c7e064cd",
   "metadata": {},
   "outputs": [
    {
     "data": {
      "text/plain": [
       "[]"
      ]
     },
     "execution_count": 14,
     "metadata": {},
     "output_type": "execute_result"
    }
   ],
   "source": [
    "wrongs = []\n",
    "for i in range(len(classes)):\n",
    "    if classes[i] != preds_base[i]:\n",
    "        print(str(classes[i]) + ' ' + str(preds_base[i]))\n",
    "        wrongs.append(i)\n",
    "wrongs"
   ]
  },
  {
   "cell_type": "code",
   "execution_count": 15,
   "id": "29900417",
   "metadata": {},
   "outputs": [
    {
     "data": {
      "text/plain": [
       "1.0"
      ]
     },
     "execution_count": 15,
     "metadata": {},
     "output_type": "execute_result"
    }
   ],
   "source": [
    "accuracy(classes, preds_base)"
   ]
  },
  {
   "cell_type": "code",
   "execution_count": 16,
   "id": "d122d1bb",
   "metadata": {},
   "outputs": [],
   "source": [
    "np.save('/home/han/Desktop/part-ii-project/notebooks/predictions/mnist_simd_classes', classes)"
   ]
  },
  {
   "cell_type": "code",
   "execution_count": 17,
   "id": "d2c46149",
   "metadata": {},
   "outputs": [],
   "source": [
    "np.save('/home/han/Desktop/part-ii-project/notebooks/predictions/mnist_simd_outputs', outputs)"
   ]
  },
  {
   "cell_type": "markdown",
   "id": "e3a437c1",
   "metadata": {},
   "source": [
    "### Pruned model"
   ]
  },
  {
   "cell_type": "code",
   "execution_count": 2,
   "id": "7f96ed6e",
   "metadata": {},
   "outputs": [],
   "source": [
    "N = 8192 * 2\n",
    "scheme = get_ckks_scheme(N, primes=[60, 50, 50, 50, 50, 50, 60], scale_factor=50)\n",
    "creator = Creator(scheme)"
   ]
  },
  {
   "cell_type": "code",
   "execution_count": 3,
   "id": "945d33c3",
   "metadata": {},
   "outputs": [
    {
     "name": "stdout",
     "output_type": "stream",
     "text": [
      "-------Summary of model-------\n",
      "Input Layer, input shape = (1, 30, 30)\n",
      "Conv2D layer, input shape = (1, 30, 30), output shape = (5, 13, 13), weights shape = (5, 5, 1, 5)\n",
      "Activation layer, mode = square, input shape = (5, 13, 13), output shape = (5, 13, 13)\n",
      "Flatten layer, input shape = (5, 13, 13), output shape = (1, 1, 845)\n",
      "Dense layer, input shape = (1, 1, 845), output shape = (1, 1, 100), weights shape = (845, 100)\n",
      "Activation layer, mode = square, input shape = (1, 1, 100), output shape = (1, 1, 100)\n",
      "Dense layer, input shape = (1, 1, 100), output shape = (1, 1, 10), weights shape = (100, 10)\n",
      "\n"
     ]
    }
   ],
   "source": [
    "model = Model(creator)\n",
    "model.add(InputLayer(input_shape=(1, 30, 30)))\n",
    "model.add(ConvLayer(kernel_size=(5, 5), stride=2, padding=0, num_maps=5))\n",
    "model.add(ActivationLayer(mode='square'))\n",
    "model.add(Flatten(groups=1))\n",
    "model.add(DenseLayer(output_length=100))\n",
    "model.add(ActivationLayer(mode='square'))\n",
    "model.add(DenseLayer(output_length=10))\n",
    "\n",
    "weights, test_features, preds_base, outputs_base = load_data(name='LOTTERY')\n",
    "\n",
    "test_features = test_features[:N // 2]\n",
    "preds_base = preds_base[:N // 2]\n",
    "outputs_base = outputs_base[:N // 2]\n",
    "\n",
    "test_features = ZeroPadding2D()(test_features).numpy()\n",
    "\n",
    "model.compile(data_mode=0)\n",
    "model.load_weights(weights, scale=16)\n",
    "model.summary()"
   ]
  },
  {
   "cell_type": "code",
   "execution_count": 4,
   "id": "3027b8b1",
   "metadata": {},
   "outputs": [
    {
     "name": "stderr",
     "output_type": "stream",
     "text": [
      "  1%|          | 6/900 [00:00<00:16, 55.09it/s]"
     ]
    },
    {
     "name": "stdout",
     "output_type": "stream",
     "text": [
      "Encrypting 8192 items\n"
     ]
    },
    {
     "name": "stderr",
     "output_type": "stream",
     "text": [
      "100%|██████████| 900/900 [00:16<00:00, 56.16it/s]\n",
      "  0%|          | 0/845 [00:00<?, ?it/s]"
     ]
    },
    {
     "name": "stdout",
     "output_type": "stream",
     "text": [
      "\u001b[97m\u001b[1mLayer 0\u001b[0m\u001b[92m::\u001b[0m\u001b[97m1.2283999996753892e-05\u001b[0m\n"
     ]
    },
    {
     "name": "stderr",
     "output_type": "stream",
     "text": [
      "100%|██████████| 845/845 [00:50<00:00, 16.79it/s]\n"
     ]
    },
    {
     "name": "stdout",
     "output_type": "stream",
     "text": [
      "addPC 845\n",
      "multPC 3211\n",
      "addCC 1859\n",
      "\u001b[97m\u001b[1mLayer 1\u001b[0m\u001b[92m::\u001b[0m\u001b[97m50.467144694999995\u001b[0m\n",
      "\u001b[94m\u001b[1msquare::\u001b[0m\u001b[92m::\u001b[0m\u001b[94m#mult-CC: 845\u001b[0m\n",
      "\u001b[97m\u001b[1mLayer 2\u001b[0m\u001b[92m::\u001b[0m\u001b[97m15.625452302000014\u001b[0m\n",
      "-----Applying flatten layer-----\n",
      "\u001b[97m\u001b[1mLayer 3\u001b[0m\u001b[92m::\u001b[0m\u001b[97m0.0008223219999905496\u001b[0m\n",
      "-----Applying dense layer-----\n"
     ]
    },
    {
     "name": "stderr",
     "output_type": "stream",
     "text": [
      "100%|██████████| 100/100 [01:03<00:00,  1.57it/s]\n"
     ]
    },
    {
     "name": "stdout",
     "output_type": "stream",
     "text": [
      "multPC 8316\n",
      "addCC 8116\n",
      "addPC 1\n",
      "\u001b[97m\u001b[1mLayer 4\u001b[0m\u001b[92m::\u001b[0m\u001b[97m65.80428701599999\u001b[0m\n"
     ]
    },
    {
     "name": "stderr",
     "output_type": "stream",
     "text": [
      "\r",
      "  0%|          | 0/10 [00:00<?, ?it/s]"
     ]
    },
    {
     "name": "stdout",
     "output_type": "stream",
     "text": [
      "\u001b[94m\u001b[1msquare::\u001b[0m\u001b[92m::\u001b[0m\u001b[94m#mult-CC: 100\u001b[0m\n",
      "\u001b[97m\u001b[1mLayer 5\u001b[0m\u001b[92m::\u001b[0m\u001b[97m0.9588502770000105\u001b[0m\n",
      "-----Applying dense layer-----\n"
     ]
    },
    {
     "name": "stderr",
     "output_type": "stream",
     "text": [
      "100%|██████████| 10/10 [00:01<00:00,  8.56it/s]"
     ]
    },
    {
     "name": "stdout",
     "output_type": "stream",
     "text": [
      "multPC 228\n",
      "addCC 208\n",
      "addPC 1\n",
      "\u001b[97m\u001b[1mLayer 6\u001b[0m\u001b[92m::\u001b[0m\u001b[97m1.3762352440000143\u001b[0m\n"
     ]
    },
    {
     "name": "stderr",
     "output_type": "stream",
     "text": [
      "\n"
     ]
    }
   ],
   "source": [
    "print('Encrypting %s items' % len(test_features))\n",
    "\n",
    "outputs = model.predict(input_data=creator.encrypt_simd(mat=test_features),\n",
    "                             creator=creator, classes=N // 2)"
   ]
  },
  {
   "cell_type": "code",
   "execution_count": 6,
   "id": "859a346a",
   "metadata": {},
   "outputs": [
    {
     "data": {
      "text/plain": [
       "0.0859375"
      ]
     },
     "execution_count": 6,
     "metadata": {},
     "output_type": "execute_result"
    }
   ],
   "source": [
    "classes = np.argmax(outputs, axis=1)[0]\n",
    "accuracy(classes, preds_base)"
   ]
  },
  {
   "cell_type": "code",
   "execution_count": null,
   "id": "1df8c78d",
   "metadata": {},
   "outputs": [],
   "source": []
  }
 ],
 "metadata": {
  "kernelspec": {
   "display_name": "Python 3",
   "language": "python",
   "name": "python3"
  },
  "language_info": {
   "codemirror_mode": {
    "name": "ipython",
    "version": 3
   },
   "file_extension": ".py",
   "mimetype": "text/x-python",
   "name": "python",
   "nbconvert_exporter": "python",
   "pygments_lexer": "ipython3",
   "version": "3.8.5"
  }
 },
 "nbformat": 4,
 "nbformat_minor": 5
}
