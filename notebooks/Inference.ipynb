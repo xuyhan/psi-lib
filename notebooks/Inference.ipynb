{
 "cells": [
  {
   "cell_type": "markdown",
   "id": "f866e731",
   "metadata": {},
   "source": [
    "This notebook contains the top-level code that performs secure inference on trained models. We use the models discussed in the dissertation. Note that the timing results here don't correspond to the results obtained in the evaluation. The results shown here are computed on a slightly different setup than the one used in the evaluation (so timing values may be different), and is just for demonstration purposes to show usage of the library's top level interface. The progress bars are not displayed correctly in the outputs due to a limitation of exporting Jupyter notebooks as PDFs. "
   ]
  },
  {
   "cell_type": "code",
   "execution_count": 1,
   "id": "402dde32",
   "metadata": {
    "scrolled": false
   },
   "outputs": [
    {
     "data": {
      "text/plain": [
       "'/home/han/Desktop/part-ii-project/part-ii-project/notebooks'"
      ]
     },
     "execution_count": 1,
     "metadata": {},
     "output_type": "execute_result"
    }
   ],
   "source": [
    "%pwd"
   ]
  },
  {
   "cell_type": "code",
   "execution_count": 2,
   "id": "5e7baf3a",
   "metadata": {
    "scrolled": false
   },
   "outputs": [
    {
     "name": "stdout",
     "output_type": "stream",
     "text": [
      "/home/han/Desktop/part-ii-project/part-ii-project\n"
     ]
    }
   ],
   "source": [
    "%cd .."
   ]
  },
  {
   "cell_type": "code",
   "execution_count": 3,
   "id": "07b5918d",
   "metadata": {
    "scrolled": false
   },
   "outputs": [],
   "source": [
    "import numpy as np\n",
    "from typing import List\n",
    "\n",
    "from tqdm import tqdm\n",
    "\n",
    "from utils.data_loader import load_data\n",
    "from crypto.schemes import *\n",
    "from model.lin_algebra import *\n",
    "from model.creator import Creator\n",
    "from model.revealer import Revealer\n",
    "import math\n",
    "import time\n",
    "import torch\n",
    "from keras.layers import ZeroPadding2D\n",
    "import model.low_lat as low_lat\n",
    "from utils.logger import msg, OutFlags\n",
    "\n",
    "from model.model_builder import *\n",
    "import matplotlib.pyplot as plt"
   ]
  },
  {
   "cell_type": "markdown",
   "id": "9886f972",
   "metadata": {},
   "source": [
    "### Low latency models"
   ]
  },
  {
   "cell_type": "code",
   "execution_count": 4,
   "id": "33018814",
   "metadata": {
    "scrolled": false
   },
   "outputs": [],
   "source": [
    "def mnist_fast(examples, mode='cifar'):\n",
    "    if mode == 'normal':\n",
    "        N = 512 * 16 * 1 * 1\n",
    "        scheme, decryptor = init_scheme_ckks(N, primes=[32, 25, 25, 25, 25, 25, 32], scale_factor=25)\n",
    "        creator = Creator(scheme)\n",
    "\n",
    "        s = 2\n",
    "        k = 5\n",
    "\n",
    "        model = Model(creator)\n",
    "        model.add(InputLayer(input_shape=(1, 30, 30)))\n",
    "        model.add(ConvLayer(kernel_size=(k, k), stride=s, padding=0, num_maps=5, dense_mode=False))\n",
    "        model.add(Flatten(groups=1))\n",
    "        model.add(ActivationLayer(mode='square'))\n",
    "        model.add(DenseLayer(output_length=100, prev_channels=5))\n",
    "        model.add(ActivationLayer(mode='square'))\n",
    "        model.add(DenseLayer(output_length=10))\n",
    "\n",
    "        weights, test_features, preds_base, outputs_base = load_data(name='MNIST-CRYPTONETS-ORIGINAL')\n",
    "        test_features = ZeroPadding2D()(test_features).numpy()\n",
    "\n",
    "        model.compile(data_mode=1)\n",
    "        model.load_weights(weights, scale=16)\n",
    "        model.summary()\n",
    "    elif mode == 'fast':\n",
    "        N = 512 * 16 * 1 * 1\n",
    "        scheme, decryptor = init_scheme_ckks(N, primes=[32, 28, 28, 28, 28, 28, 32], scale_factor=28)\n",
    "        creator = Creator(scheme)\n",
    "\n",
    "        s = 1\n",
    "        k = 3\n",
    "\n",
    "        model = Model(creator)\n",
    "        model.add(InputLayer(input_shape=(1, 30, 30)))\n",
    "        model.add(ConvLayer(kernel_size=(k, k), stride=s, padding=0, num_maps=5, dense_mode=False))\n",
    "        model.add(Flatten(groups=1))\n",
    "        model.add(ActivationLayer(mode='square'))\n",
    "        model.add(DenseLayer(output_length=32, prev_channels=5))\n",
    "        model.add(ActivationLayer(mode='square'))\n",
    "        model.add(DenseLayer(output_length=10))\n",
    "\n",
    "        weights, test_features, preds_base, outputs_base = load_data(name='MNIST-OPT')\n",
    "        test_features = ZeroPadding2D()(test_features).numpy()\n",
    "\n",
    "        model.compile(data_mode=1)\n",
    "        model.load_weights(weights, scale=16)\n",
    "        model.summary()\n",
    "    elif mode == 'cifar-base':\n",
    "        N = 512 * 16 * 2 * 1\n",
    "        scheme, decryptor = init_scheme_ckks(N, primes=[60, 30, 30, 30, 30, 30, 30, 30, 30, 60], scale_factor=30)\n",
    "        creator = Creator(scheme)\n",
    "\n",
    "        s = 1\n",
    "        k = 3\n",
    "\n",
    "        model = Model(creator)\n",
    "        model.add(InputLayer(input_shape=(3, 32, 32)))\n",
    "        model.add(ConvLayer(kernel_size=(k, k), stride=s, padding=0, num_maps=18, dense_mode=False))\n",
    "        model.add(Flatten(groups=5))\n",
    "        model.add(ActivationLayer(mode='square'))\n",
    "        model.add(DenseLayer(output_length=4096, prev_channels=18))\n",
    "        model.add(ActivationLayer(mode='square'))\n",
    "        model.add(DenseLayer(output_length=256))\n",
    "        model.add(ActivationLayer(mode='square'))\n",
    "        model.add(DenseLayer(output_length=10))\n",
    "\n",
    "        weights, test_features, preds_base, outputs_base = load_data(name='CIFAR-BASE')\n",
    "\n",
    "        model.compile(data_mode=1)\n",
    "        model.load_weights(weights, scale=16)\n",
    "        model.summary()\n",
    "    elif mode == 'cifar':\n",
    "        N = 512 * 16 * 2 * 1\n",
    "        scheme, decryptor = init_scheme_ckks(N, primes=[60, 30, 30, 30, 30, 30, 30, 30, 30, 60], scale_factor=30)\n",
    "        creator = Creator(scheme)\n",
    "\n",
    "        s = 1\n",
    "        k = 3\n",
    "\n",
    "        model = Model(creator)\n",
    "        model.add(InputLayer(input_shape=(3, 32, 32)))\n",
    "        model.add(ConvLayer(kernel_size=(k, k), stride=s, padding=0, num_maps=18, dense_mode=False))\n",
    "        model.add(Flatten(groups=3))\n",
    "        model.add(ActivationLayer(mode='square'))\n",
    "        model.add(DenseLayer(output_length=832, prev_channels=18))\n",
    "        model.add(Unflatten(channels=13))\n",
    "        model.add(ConvLayer(kernel_size=(1, 1), stride=1, padding=0, num_maps=64, dense_mode=False))\n",
    "        model.add(Flatten(groups=1))\n",
    "        model.add(ActivationLayer(mode='square'))\n",
    "        model.add(DenseLayer(output_length=256, prev_channels=64))\n",
    "        model.add(ActivationLayer(mode='square'))\n",
    "        model.add(DenseLayer(output_length=10))\n",
    "\n",
    "        weights, test_features, preds_base, outputs_base = load_data(name='CIFAR-SVD')\n",
    "\n",
    "        model.compile(data_mode=1)\n",
    "        model.load_weights(weights, scale=16)\n",
    "        model.summary()\n",
    "        \n",
    "    revealer = Revealer(scheme, decryptor)\n",
    "\n",
    "    for i in examples:\n",
    "        image = test_features[i]\n",
    "        preds_base_i = preds_base[i]\n",
    "        outputs_base_i = outputs_base[i]\n",
    "\n",
    "        t0 = time.process_time()\n",
    "        data = creator.encrypt_dense(mat=image)\n",
    "        img_groups = creator.obtain_image_groups(mat=image, k=k, s=s)\n",
    "        msg('Encryption', str(round(time.process_time() - t0, 4)), OutFlags.INFO)\n",
    "        \n",
    "        outputs = model.predict(input_data=img_groups)\n",
    "        \n",
    "        t0 = time.process_time()\n",
    "        outputs = revealer.reveal_outputs(outputs, length=10, data_mode=1)\n",
    "        msg('Decryption', str(round(time.process_time() - t0, 4)), OutFlags.INFO)\n",
    "\n",
    "        output_probs = torch.softmax(torch.tensor(np.array(outputs, dtype=float)), 0).detach().numpy()\n",
    "\n",
    "        msg('Result vs expected', str(np.argmax(outputs)) + ' ' + str(preds_base_i), OutFlags.INFO)\n",
    "        \n",
    "        fig, axs = plt.subplots(1, 2, figsize=(15, 4))\n",
    "        fig.suptitle('Final activations')\n",
    "        axs[0].bar(np.arange(10), output_probs, label='decrypted', color='green')\n",
    "        axs[1].bar(np.arange(10), outputs_base[i], label='expected')\n",
    "        axs[0].set_xticks(np.arange(0, 10, 1))\n",
    "        axs[1].set_xticks(np.arange(0, 10, 1))\n",
    "        fig.legend()\n",
    "        \n",
    "        if np.argmax(outputs) != preds_base_i:\n",
    "            msg('mnist_fast', 'incorrect prediction!', OutFlags.INFO)"
   ]
  },
  {
   "cell_type": "markdown",
   "id": "920ae3ac",
   "metadata": {},
   "source": [
    "This is the low latency MNIST model discussed in section 3.5.1"
   ]
  },
  {
   "cell_type": "code",
   "execution_count": 33,
   "id": "3ba4ec20",
   "metadata": {
    "scrolled": true
   },
   "outputs": [
    {
     "name": "stdout",
     "output_type": "stream",
     "text": [
      "-------Summary of model-------\n",
      "\u001b[1mName                       Input shape                Output shape               \u001b[0m\n",
      "input0                     (1, 30, 30)                (1, 30, 30)                \n",
      "conv1                      (1, 30, 30)                (5, 28, 28)                \n",
      "flatten2                   (5, 28, 28)                (1, 1, 3920)               \n",
      "activation_square3         (1, 1, 3920)               (1, 1, 3920)               \n",
      "dense4                     (1, 1, 3920)               (1, 1, 32)                 \n",
      "activation_square5         (1, 1, 32)                 (1, 1, 32)                 \n",
      "dense6                     (1, 1, 32)                 (1, 1, 10)                 \n",
      "\u001b[94m\u001b[1mEncryption\u001b[0m\u001b[92m::\u001b[0m\u001b[94m0.0849\u001b[0m\n",
      "\u001b[94m\u001b[1mApplying layer\u001b[0m\u001b[92m::\u001b[0m\u001b[94minput0\u001b[0m\n",
      "\u001b[94m\u001b[1mTime elapsed\u001b[0m\u001b[92m::\u001b[0m\u001b[94m1e-05\u001b[0m\n",
      "\u001b[94m\u001b[1mApplying layer\u001b[0m\u001b[92m::\u001b[0m\u001b[94mconv1\u001b[0m\n"
     ]
    },
    {
     "data": {
      "application/vnd.jupyter.widget-view+json": {
       "model_id": "df68a5c5720448f8b90b026d25139347",
       "version_major": 2,
       "version_minor": 0
      },
      "text/plain": [
       "HBox(children=(HTML(value=''), FloatProgress(value=0.0, max=5.0), HTML(value='')))"
      ]
     },
     "metadata": {},
     "output_type": "display_data"
    },
    {
     "name": "stdout",
     "output_type": "stream",
     "text": [
      "\n",
      "\u001b[94m\u001b[1mTime elapsed\u001b[0m\u001b[92m::\u001b[0m\u001b[94m0.27683\u001b[0m\n",
      "\u001b[94m\u001b[1mApplying layer\u001b[0m\u001b[92m::\u001b[0m\u001b[94mflatten2\u001b[0m\n",
      "\u001b[94m\u001b[1mFlatten::apply_fast\u001b[0m\u001b[92m::\u001b[0m\u001b[94mchannels per group: 5\u001b[0m\n",
      "\u001b[94m\u001b[1mFlatten::apply_fast\u001b[0m\u001b[92m::\u001b[0m\u001b[94mchannels in last group: 5\u001b[0m\n",
      "\u001b[94m\u001b[1mTime elapsed\u001b[0m\u001b[92m::\u001b[0m\u001b[94m0.07785\u001b[0m\n",
      "\u001b[94m\u001b[1mApplying layer\u001b[0m\u001b[92m::\u001b[0m\u001b[94mactivation_square3\u001b[0m\n",
      "\u001b[94m\u001b[1mTime elapsed\u001b[0m\u001b[92m::\u001b[0m\u001b[94m0.0088\u001b[0m\n",
      "\u001b[94m\u001b[1mApplying layer\u001b[0m\u001b[92m::\u001b[0m\u001b[94mdense4\u001b[0m\n",
      "\u001b[94m\u001b[1mDenseLayer::apply_fast\u001b[0m\u001b[92m::\u001b[0m\u001b[94mgroup size: 3920\u001b[0m\n",
      "\u001b[94m\u001b[1mDenseLayer::apply_fast\u001b[0m\u001b[92m::\u001b[0m\u001b[94mlast group size: 3920\u001b[0m\n"
     ]
    },
    {
     "data": {
      "application/vnd.jupyter.widget-view+json": {
       "model_id": "d714114041ce4787abf1e583536a8cad",
       "version_major": 2,
       "version_minor": 0
      },
      "text/plain": [
       "HBox(children=(HTML(value=''), FloatProgress(value=0.0, max=32.0), HTML(value='')))"
      ]
     },
     "metadata": {},
     "output_type": "display_data"
    },
    {
     "name": "stdout",
     "output_type": "stream",
     "text": [
      "\n",
      "\u001b[94m\u001b[1mTime elapsed\u001b[0m\u001b[92m::\u001b[0m\u001b[94m0.51749\u001b[0m\n",
      "\u001b[94m\u001b[1mApplying layer\u001b[0m\u001b[92m::\u001b[0m\u001b[94mactivation_square5\u001b[0m\n",
      "\u001b[94m\u001b[1mTime elapsed\u001b[0m\u001b[92m::\u001b[0m\u001b[94m0.00452\u001b[0m\n",
      "\u001b[94m\u001b[1mApplying layer\u001b[0m\u001b[92m::\u001b[0m\u001b[94mdense6\u001b[0m\n",
      "\u001b[94m\u001b[1mDenseLayer::apply_fast\u001b[0m\u001b[92m::\u001b[0m\u001b[94mgroup size: 32\u001b[0m\n",
      "\u001b[94m\u001b[1mDenseLayer::apply_fast\u001b[0m\u001b[92m::\u001b[0m\u001b[94mlast group size: 32\u001b[0m\n"
     ]
    },
    {
     "data": {
      "application/vnd.jupyter.widget-view+json": {
       "model_id": "c02f797c25a244d6912d3d574682da34",
       "version_major": 2,
       "version_minor": 0
      },
      "text/plain": [
       "HBox(children=(HTML(value=''), FloatProgress(value=0.0, max=10.0), HTML(value='')))"
      ]
     },
     "metadata": {},
     "output_type": "display_data"
    },
    {
     "name": "stdout",
     "output_type": "stream",
     "text": [
      "\n",
      "\u001b[94m\u001b[1mTime elapsed\u001b[0m\u001b[92m::\u001b[0m\u001b[94m0.08024\u001b[0m\n",
      "\u001b[94m\u001b[1mTotal inference time\u001b[0m\u001b[92m::\u001b[0m\u001b[94m0.9658\u001b[0m\n",
      "------Summary of operations------\n",
      "\u001b[1mLayer               #HOPS     #AddPC    #AddCC    #MulPC    #MulCC    #Rots     Time      \u001b[0m\n",
      "input0              -         -         -         -         -         -         -         \n",
      "conv1               90        5         40        45        -         -         0.277     \n",
      "flatten2            8         -         4         -         -         4         0.078     \n",
      "activation_square3  1         -         -         -         1         -         0.009     \n",
      "dense4              110       1         38        32        -         39        0.517     \n",
      "activation_square5  1         -         -         -         1         -         0.005     \n",
      "dense6              36        1         12        10        -         13        0.08      \n",
      "Total               246       7         94        87        2         56        0.966     \n",
      "\u001b[94m\u001b[1mDecryption\u001b[0m\u001b[92m::\u001b[0m\u001b[94m0.0005\u001b[0m\n",
      "\u001b[94m\u001b[1mResult vs expected\u001b[0m\u001b[92m::\u001b[0m\u001b[94m9 9\u001b[0m\n"
     ]
    },
    {
     "data": {
      "image/png": "[encoded data removed]",
      "text/plain": [
       "<Figure size 1080x288 with 2 Axes>"
      ]
     },
     "metadata": {
      "needs_background": "light"
     },
     "output_type": "display_data"
    }
   ],
   "source": [
    "mnist_fast(examples=[12], mode='fast')"
   ]
  },
  {
   "cell_type": "markdown",
   "id": "e696e2d5",
   "metadata": {},
   "source": [
    "This is the result of evaluating the original CryptoNets architecture using the low-latency operations."
   ]
  },
  {
   "cell_type": "code",
   "execution_count": 26,
   "id": "63fc97c8",
   "metadata": {
    "scrolled": true
   },
   "outputs": [
    {
     "name": "stdout",
     "output_type": "stream",
     "text": [
      "-------Summary of model-------\n",
      "\u001b[1mName                       Input shape                Output shape               \u001b[0m\n",
      "input0                     (1, 30, 30)                (1, 30, 30)                \n",
      "conv1                      (1, 30, 30)                (5, 13, 13)                \n",
      "flatten2                   (5, 13, 13)                (1, 1, 845)                \n",
      "activation_square3         (1, 1, 845)                (1, 1, 845)                \n",
      "dense4                     (1, 1, 845)                (1, 1, 100)                \n",
      "activation_square5         (1, 1, 100)                (1, 1, 100)                \n",
      "dense6                     (1, 1, 100)                (1, 1, 10)                 \n",
      "\u001b[94m\u001b[1mEncryption\u001b[0m\u001b[92m::\u001b[0m\u001b[94m0.2151\u001b[0m\n",
      "\u001b[94m\u001b[1mApplying layer\u001b[0m\u001b[92m::\u001b[0m\u001b[94minput0\u001b[0m\n",
      "\u001b[94m\u001b[1mTime elapsed\u001b[0m\u001b[92m::\u001b[0m\u001b[94m4e-05\u001b[0m\n",
      "\u001b[94m\u001b[1mApplying layer\u001b[0m\u001b[92m::\u001b[0m\u001b[94mconv1\u001b[0m\n"
     ]
    },
    {
     "data": {
      "application/vnd.jupyter.widget-view+json": {
       "model_id": "96bbc39fbb384556ad25e92548fef8d5",
       "version_major": 2,
       "version_minor": 0
      },
      "text/plain": [
       "HBox(children=(HTML(value=''), FloatProgress(value=0.0, max=5.0), HTML(value='')))"
      ]
     },
     "metadata": {},
     "output_type": "display_data"
    },
    {
     "name": "stdout",
     "output_type": "stream",
     "text": [
      "\n",
      "\u001b[94m\u001b[1mTime elapsed\u001b[0m\u001b[92m::\u001b[0m\u001b[94m0.70051\u001b[0m\n",
      "\u001b[94m\u001b[1mApplying layer\u001b[0m\u001b[92m::\u001b[0m\u001b[94mflatten2\u001b[0m\n",
      "\u001b[94m\u001b[1mFlatten::apply_fast\u001b[0m\u001b[92m::\u001b[0m\u001b[94mchannels per group: 5\u001b[0m\n",
      "\u001b[94m\u001b[1mFlatten::apply_fast\u001b[0m\u001b[92m::\u001b[0m\u001b[94mchannels in last group: 5\u001b[0m\n",
      "\u001b[94m\u001b[1mTime elapsed\u001b[0m\u001b[92m::\u001b[0m\u001b[94m0.09468\u001b[0m\n",
      "\u001b[94m\u001b[1mApplying layer\u001b[0m\u001b[92m::\u001b[0m\u001b[94mactivation_square3\u001b[0m\n",
      "\u001b[94m\u001b[1mTime elapsed\u001b[0m\u001b[92m::\u001b[0m\u001b[94m0.00912\u001b[0m\n",
      "\u001b[94m\u001b[1mApplying layer\u001b[0m\u001b[92m::\u001b[0m\u001b[94mdense4\u001b[0m\n",
      "\u001b[94m\u001b[1mDenseLayer::apply_fast\u001b[0m\u001b[92m::\u001b[0m\u001b[94mgroup size: 845\u001b[0m\n",
      "\u001b[94m\u001b[1mDenseLayer::apply_fast\u001b[0m\u001b[92m::\u001b[0m\u001b[94mlast group size: 845\u001b[0m\n"
     ]
    },
    {
     "data": {
      "application/vnd.jupyter.widget-view+json": {
       "model_id": "2d861a72117247f1b452d07c2ac72383",
       "version_major": 2,
       "version_minor": 0
      },
      "text/plain": [
       "HBox(children=(HTML(value=''), FloatProgress(value=0.0), HTML(value='')))"
      ]
     },
     "metadata": {},
     "output_type": "display_data"
    },
    {
     "name": "stdout",
     "output_type": "stream",
     "text": [
      "\n",
      "\u001b[94m\u001b[1mTime elapsed\u001b[0m\u001b[92m::\u001b[0m\u001b[94m1.80253\u001b[0m\n",
      "\u001b[94m\u001b[1mApplying layer\u001b[0m\u001b[92m::\u001b[0m\u001b[94mactivation_square5\u001b[0m\n",
      "\u001b[94m\u001b[1mTime elapsed\u001b[0m\u001b[92m::\u001b[0m\u001b[94m0.00488\u001b[0m\n",
      "\u001b[94m\u001b[1mApplying layer\u001b[0m\u001b[92m::\u001b[0m\u001b[94mdense6\u001b[0m\n",
      "\u001b[94m\u001b[1mDenseLayer::apply_fast\u001b[0m\u001b[92m::\u001b[0m\u001b[94mgroup size: 100\u001b[0m\n",
      "\u001b[94m\u001b[1mDenseLayer::apply_fast\u001b[0m\u001b[92m::\u001b[0m\u001b[94mlast group size: 100\u001b[0m\n"
     ]
    },
    {
     "data": {
      "application/vnd.jupyter.widget-view+json": {
       "model_id": "586ad790c0a14d22b04466d0fccb5ca2",
       "version_major": 2,
       "version_minor": 0
      },
      "text/plain": [
       "HBox(children=(HTML(value=''), FloatProgress(value=0.0, max=10.0), HTML(value='')))"
      ]
     },
     "metadata": {},
     "output_type": "display_data"
    },
    {
     "name": "stdout",
     "output_type": "stream",
     "text": [
      "\n",
      "\u001b[94m\u001b[1mTime elapsed\u001b[0m\u001b[92m::\u001b[0m\u001b[94m0.09608\u001b[0m\n",
      "\u001b[94m\u001b[1mTotal inference time\u001b[0m\u001b[92m::\u001b[0m\u001b[94m2.70796\u001b[0m\n",
      "------Summary of operations------\n",
      "\u001b[1mLayer               #HOPS     #AddPC    #AddCC    #MulPC    #MulCC    #Rots     Time      \u001b[0m\n",
      "input0              -         -         -         -         -         -         -         \n",
      "conv1               250       5         120       125       -         -         0.701     \n",
      "flatten2            8         -         4         -         -         4         0.095     \n",
      "activation_square3  1         -         -         -         1         -         0.009     \n",
      "dense4              308       1         103       100       -         104       1.803     \n",
      "activation_square5  1         -         -         -         1         -         0.005     \n",
      "dense6              38        1         13        10        -         14        0.096     \n",
      "Total               606       7         240       235       2         122       2.709     \n",
      "\u001b[94m\u001b[1mDecryption\u001b[0m\u001b[92m::\u001b[0m\u001b[94m0.0007\u001b[0m\n",
      "\u001b[94m\u001b[1mResult vs expected\u001b[0m\u001b[92m::\u001b[0m\u001b[94m7 7\u001b[0m\n"
     ]
    },
    {
     "data": {
      "image/png": "[encoded data removed]",
      "text/plain": [
       "<Figure size 1080x288 with 2 Axes>"
      ]
     },
     "metadata": {
      "needs_background": "light"
     },
     "output_type": "display_data"
    }
   ],
   "source": [
    "mnist_fast(examples=[0], mode='normal')"
   ]
  },
  {
   "cell_type": "markdown",
   "id": "a6c852c0",
   "metadata": {},
   "source": [
    "This is the low latency CIFAR model."
   ]
  },
  {
   "cell_type": "code",
   "execution_count": 6,
   "id": "115d7d5e",
   "metadata": {
    "scrolled": true
   },
   "outputs": [
    {
     "name": "stdout",
     "output_type": "stream",
     "text": [
      "-------Summary of model-------\n",
      "\u001b[1mName                       Input shape                Output shape               \u001b[0m\n",
      "input0                     (3, 32, 32)                (3, 32, 32)                \n",
      "conv1                      (3, 32, 32)                (18, 30, 30)               \n",
      "flatten2                   (18, 30, 30)               (1, 1, 16200)              \n",
      "activation_square3         (1, 1, 16200)              (1, 1, 16200)              \n",
      "dense4                     (1, 1, 16200)              (1, 1, 832)                \n",
      "unflatten5                 (1, 1, 832)                (13, 8, 8)                 \n",
      "conv6                      (13, 8, 8)                 (64, 8, 8)                 \n",
      "flatten7                   (64, 8, 8)                 (1, 1, 4096)               \n",
      "activation_square8         (1, 1, 4096)               (1, 1, 4096)               \n",
      "dense9                     (1, 1, 4096)               (1, 1, 256)                \n",
      "activation_square10        (1, 1, 256)                (1, 1, 256)                \n",
      "dense11                    (1, 1, 256)                (1, 1, 10)                 \n",
      "\u001b[94m\u001b[1mEncryption\u001b[0m\u001b[92m::\u001b[0m\u001b[94m0.7397\u001b[0m\n",
      "\u001b[94m\u001b[1mApplying layer\u001b[0m\u001b[92m::\u001b[0m\u001b[94minput0\u001b[0m\n",
      "\u001b[94m\u001b[1mTime elapsed\u001b[0m\u001b[92m::\u001b[0m\u001b[94m2e-05\u001b[0m\n",
      "\u001b[94m\u001b[1mApplying layer\u001b[0m\u001b[92m::\u001b[0m\u001b[94mconv1\u001b[0m\n"
     ]
    },
    {
     "data": {
      "application/vnd.jupyter.widget-view+json": {
       "model_id": "b840cfd1cd1849b29e6b82dd1d06a557",
       "version_major": 2,
       "version_minor": 0
      },
      "text/plain": [
       "HBox(children=(HTML(value=''), FloatProgress(value=0.0, max=18.0), HTML(value='')))"
      ]
     },
     "metadata": {},
     "output_type": "display_data"
    },
    {
     "name": "stdout",
     "output_type": "stream",
     "text": [
      "\n",
      "\u001b[94m\u001b[1mTime elapsed\u001b[0m\u001b[92m::\u001b[0m\u001b[94m8.08185\u001b[0m\n",
      "\u001b[94m\u001b[1mApplying layer\u001b[0m\u001b[92m::\u001b[0m\u001b[94mflatten2\u001b[0m\n",
      "\u001b[94m\u001b[1mFlatten::apply_fast\u001b[0m\u001b[92m::\u001b[0m\u001b[94mchannels per group: 6\u001b[0m\n",
      "\u001b[94m\u001b[1mFlatten::apply_fast\u001b[0m\u001b[92m::\u001b[0m\u001b[94mchannels in last group: 6\u001b[0m\n",
      "\u001b[94m\u001b[1mTime elapsed\u001b[0m\u001b[92m::\u001b[0m\u001b[94m1.60951\u001b[0m\n",
      "\u001b[94m\u001b[1mApplying layer\u001b[0m\u001b[92m::\u001b[0m\u001b[94mactivation_square3\u001b[0m\n",
      "\u001b[94m\u001b[1mTime elapsed\u001b[0m\u001b[92m::\u001b[0m\u001b[94m0.11224\u001b[0m\n",
      "\u001b[94m\u001b[1mApplying layer\u001b[0m\u001b[92m::\u001b[0m\u001b[94mdense4\u001b[0m\n",
      "\u001b[94m\u001b[1mDenseLayer::apply_fast\u001b[0m\u001b[92m::\u001b[0m\u001b[94mgroup size: 5400\u001b[0m\n",
      "\u001b[94m\u001b[1mDenseLayer::apply_fast\u001b[0m\u001b[92m::\u001b[0m\u001b[94mlast group size: 5400\u001b[0m\n"
     ]
    },
    {
     "data": {
      "application/vnd.jupyter.widget-view+json": {
       "model_id": "415e723c21f94d87bc91748a9c676245",
       "version_major": 2,
       "version_minor": 0
      },
      "text/plain": [
       "HBox(children=(HTML(value=''), FloatProgress(value=0.0, max=832.0), HTML(value='')))"
      ]
     },
     "metadata": {},
     "output_type": "display_data"
    },
    {
     "name": "stdout",
     "output_type": "stream",
     "text": [
      "\n"
     ]
    },
    {
     "data": {
      "application/vnd.jupyter.widget-view+json": {
       "model_id": "a773cbc663084529a98d5dd2b9d095cd",
       "version_major": 2,
       "version_minor": 0
      },
      "text/plain": [
       "HBox(children=(HTML(value=''), FloatProgress(value=0.0, max=832.0), HTML(value='')))"
      ]
     },
     "metadata": {},
     "output_type": "display_data"
    },
    {
     "name": "stdout",
     "output_type": "stream",
     "text": [
      "\n"
     ]
    },
    {
     "data": {
      "application/vnd.jupyter.widget-view+json": {
       "model_id": "c7f0b39c4869463ea50da053eda53175",
       "version_major": 2,
       "version_minor": 0
      },
      "text/plain": [
       "HBox(children=(HTML(value=''), FloatProgress(value=0.0, max=832.0), HTML(value='')))"
      ]
     },
     "metadata": {},
     "output_type": "display_data"
    },
    {
     "name": "stdout",
     "output_type": "stream",
     "text": [
      "\n",
      "\u001b[94m\u001b[1mTime elapsed\u001b[0m\u001b[92m::\u001b[0m\u001b[94m258.40442\u001b[0m\n",
      "\u001b[94m\u001b[1mApplying layer\u001b[0m\u001b[92m::\u001b[0m\u001b[94munflatten5\u001b[0m\n",
      "\u001b[94m\u001b[1mTime elapsed\u001b[0m\u001b[92m::\u001b[0m\u001b[94m0.39471\u001b[0m\n",
      "\u001b[94m\u001b[1mApplying layer\u001b[0m\u001b[92m::\u001b[0m\u001b[94mconv6\u001b[0m\n"
     ]
    },
    {
     "data": {
      "application/vnd.jupyter.widget-view+json": {
       "model_id": "793eaf3351d24f30a960e431c8464221",
       "version_major": 2,
       "version_minor": 0
      },
      "text/plain": [
       "HBox(children=(HTML(value=''), FloatProgress(value=0.0, max=64.0), HTML(value='')))"
      ]
     },
     "metadata": {},
     "output_type": "display_data"
    },
    {
     "name": "stdout",
     "output_type": "stream",
     "text": [
      "\n",
      "\u001b[94m\u001b[1mTime elapsed\u001b[0m\u001b[92m::\u001b[0m\u001b[94m10.85991\u001b[0m\n",
      "\u001b[94m\u001b[1mApplying layer\u001b[0m\u001b[92m::\u001b[0m\u001b[94mflatten7\u001b[0m\n",
      "\u001b[94m\u001b[1mFlatten::apply_fast\u001b[0m\u001b[92m::\u001b[0m\u001b[94mchannels per group: 64\u001b[0m\n",
      "\u001b[94m\u001b[1mFlatten::apply_fast\u001b[0m\u001b[92m::\u001b[0m\u001b[94mchannels in last group: 64\u001b[0m\n",
      "\u001b[94m\u001b[1mTime elapsed\u001b[0m\u001b[92m::\u001b[0m\u001b[94m2.22019\u001b[0m\n",
      "\u001b[94m\u001b[1mApplying layer\u001b[0m\u001b[92m::\u001b[0m\u001b[94mactivation_square8\u001b[0m\n",
      "\u001b[94m\u001b[1mTime elapsed\u001b[0m\u001b[92m::\u001b[0m\u001b[94m0.02046\u001b[0m\n",
      "\u001b[94m\u001b[1mApplying layer\u001b[0m\u001b[92m::\u001b[0m\u001b[94mdense9\u001b[0m\n",
      "\u001b[94m\u001b[1mDenseLayer::apply_fast\u001b[0m\u001b[92m::\u001b[0m\u001b[94mgroup size: 4096\u001b[0m\n",
      "\u001b[94m\u001b[1mDenseLayer::apply_fast\u001b[0m\u001b[92m::\u001b[0m\u001b[94mlast group size: 4096\u001b[0m\n"
     ]
    },
    {
     "data": {
      "application/vnd.jupyter.widget-view+json": {
       "model_id": "bdc0ced8c5544f71ba1c2cdc64fa5251",
       "version_major": 2,
       "version_minor": 0
      },
      "text/plain": [
       "HBox(children=(HTML(value=''), FloatProgress(value=0.0, max=256.0), HTML(value='')))"
      ]
     },
     "metadata": {},
     "output_type": "display_data"
    },
    {
     "name": "stdout",
     "output_type": "stream",
     "text": [
      "\n",
      "\u001b[94m\u001b[1mTime elapsed\u001b[0m\u001b[92m::\u001b[0m\u001b[94m10.86958\u001b[0m\n",
      "\u001b[94m\u001b[1mApplying layer\u001b[0m\u001b[92m::\u001b[0m\u001b[94mactivation_square10\u001b[0m\n",
      "\u001b[94m\u001b[1mTime elapsed\u001b[0m\u001b[92m::\u001b[0m\u001b[94m0.01002\u001b[0m\n",
      "\u001b[94m\u001b[1mApplying layer\u001b[0m\u001b[92m::\u001b[0m\u001b[94mdense11\u001b[0m\n",
      "\u001b[94m\u001b[1mDenseLayer::apply_fast\u001b[0m\u001b[92m::\u001b[0m\u001b[94mgroup size: 256\u001b[0m\n",
      "\u001b[94m\u001b[1mDenseLayer::apply_fast\u001b[0m\u001b[92m::\u001b[0m\u001b[94mlast group size: 256\u001b[0m\n"
     ]
    },
    {
     "data": {
      "application/vnd.jupyter.widget-view+json": {
       "model_id": "31608265b806499189ea0967f2c71e01",
       "version_major": 2,
       "version_minor": 0
      },
      "text/plain": [
       "HBox(children=(HTML(value=''), FloatProgress(value=0.0, max=10.0), HTML(value='')))"
      ]
     },
     "metadata": {},
     "output_type": "display_data"
    },
    {
     "name": "stdout",
     "output_type": "stream",
     "text": [
      "\n",
      "\u001b[94m\u001b[1mTime elapsed\u001b[0m\u001b[92m::\u001b[0m\u001b[94m0.20443\u001b[0m\n",
      "\u001b[94m\u001b[1mTotal inference time\u001b[0m\u001b[92m::\u001b[0m\u001b[94m292.78742\u001b[0m\n",
      "------Summary of operations------\n",
      "\u001b[1mLayer               #HOPS     #AddPC    #AddCC    #MulPC    #MulCC    #Rots     Time      \u001b[0m\n",
      "input0              -         -         -         -         -         -         -         \n",
      "conv1               972       18        468       486       -         -         8.082     \n",
      "flatten2            30        -         15        -         -         15        1.61      \n",
      "activation_square3  3         -         -         -         3         -         0.112     \n",
      "dense4              7506      1         2504      2496      -         2505      258.404   \n",
      "unflatten5          13        -         -         -         -         13        0.395     \n",
      "conv6               1664      64        768       832       -         -         10.86     \n",
      "flatten7            126       -         63        -         -         63        2.22      \n",
      "activation_square8  1         -         -         -         1         -         0.02      \n",
      "dense9              778       1         260       256       -         261       10.87     \n",
      "activation_square10 1         -         -         -         1         -         0.01      \n",
      "dense11             40        1         14        10        -         15        0.204     \n",
      "Total               11134     85        4092      4080      5         2872      292.787   \n",
      "\u001b[94m\u001b[1mDecryption\u001b[0m\u001b[92m::\u001b[0m\u001b[94m0.001\u001b[0m\n",
      "\u001b[94m\u001b[1mResult vs expected\u001b[0m\u001b[92m::\u001b[0m\u001b[94m8 8\u001b[0m\n"
     ]
    },
    {
     "data": {
      "image/png": "[encoded data removed]",
      "text/plain": [
       "<Figure size 1080x288 with 2 Axes>"
      ]
     },
     "metadata": {
      "needs_background": "light"
     },
     "output_type": "display_data"
    }
   ],
   "source": [
    "mnist_fast(examples=[1], mode='cifar')"
   ]
  },
  {
   "cell_type": "code",
   "execution_count": null,
   "id": "8f4e3b31",
   "metadata": {
    "scrolled": true
   },
   "outputs": [],
   "source": [
    "mnist_fast(examples=[1], mode='cifar-base')"
   ]
  },
  {
   "cell_type": "markdown",
   "id": "a15460e8",
   "metadata": {},
   "source": [
    "### MNIST-SIMD"
   ]
  },
  {
   "cell_type": "markdown",
   "id": "6279e6de",
   "metadata": {},
   "source": [
    "Here I show the unpruned high-throughput MNIST model (the original CryptoNets) and the pruned version using lottery pruning."
   ]
  },
  {
   "cell_type": "markdown",
   "id": "636b4b7b",
   "metadata": {},
   "source": [
    "### Base model"
   ]
  },
  {
   "cell_type": "code",
   "execution_count": 7,
   "id": "005c7d66",
   "metadata": {
    "scrolled": false
   },
   "outputs": [],
   "source": [
    "N = 8192 * 1\n",
    "scheme, decryptor = init_scheme_ckks(512 * 16 * 1 * 1, primes=[32, 25, 25, 25, 25, 25, 32], scale_factor=25)\n",
    "creator = Creator(scheme)\n",
    "revealer = Revealer(scheme, decryptor)"
   ]
  },
  {
   "cell_type": "code",
   "execution_count": 8,
   "id": "fc970b38",
   "metadata": {
    "scrolled": false
   },
   "outputs": [
    {
     "name": "stdout",
     "output_type": "stream",
     "text": [
      "-------Summary of model-------\n",
      "\u001b[1mName                       Input shape                Output shape               \u001b[0m\n",
      "input0                     (1, 30, 30)                (1, 30, 30)                \n",
      "conv1                      (1, 30, 30)                (5, 13, 13)                \n",
      "activation_square2         (5, 13, 13)                (5, 13, 13)                \n",
      "flatten3                   (5, 13, 13)                (1, 1, 845)                \n",
      "dense4                     (1, 1, 845)                (1, 1, 100)                \n",
      "activation_square5         (1, 1, 100)                (1, 1, 100)                \n",
      "dense6                     (1, 1, 100)                (1, 1, 10)                 \n"
     ]
    }
   ],
   "source": [
    "model = Model(creator)\n",
    "model.add(InputLayer(input_shape=(1, 30, 30)))\n",
    "model.add(ConvLayer(kernel_size=(5, 5), stride=2, padding=0, num_maps=5))\n",
    "model.add(ActivationLayer(mode='square'))\n",
    "model.add(Flatten(groups=1))\n",
    "model.add(DenseLayer(output_length=100))\n",
    "model.add(ActivationLayer(mode='square'))\n",
    "model.add(DenseLayer(output_length=10))\n",
    "\n",
    "weights, test_features, preds_base, outputs_base = load_data(name='MNIST-CRYPTONETS-ORIGINAL')\n",
    "\n",
    "test_features = test_features[:N // 2]\n",
    "preds_base = preds_base[:N // 2]\n",
    "outputs_base = outputs_base[:N // 2]\n",
    "\n",
    "test_features = ZeroPadding2D()(test_features).numpy()\n",
    "\n",
    "model.compile(data_mode=0)\n",
    "model.load_weights(weights, scale=16)\n",
    "model.summary()"
   ]
  },
  {
   "cell_type": "code",
   "execution_count": null,
   "id": "b5362c0e",
   "metadata": {
    "scrolled": true
   },
   "outputs": [],
   "source": [
    "print('Encrypting %s items' % len(test_features))\n",
    "\n",
    "t0 = time.process_time()\n",
    "model_input = creator.encrypt_simd(mat=test_features)\n",
    "msg('Encryption', str(round(time.process_time() - t0, 4)), OutFlags.INFO)\n",
    "\n",
    "outputs = model.predict(input_data=model_input)"
   ]
  },
  {
   "cell_type": "code",
   "execution_count": 35,
   "id": "14c370c9",
   "metadata": {
    "scrolled": false
   },
   "outputs": [],
   "source": [
    "outputs_d = revealer.reveal_outputs(outputs, N // 2, data_mode=0)\n",
    "classes = np.argmax(outputs_d, axis=1)[0]"
   ]
  },
  {
   "cell_type": "markdown",
   "id": "e3a437c1",
   "metadata": {},
   "source": [
    "### Pruned model"
   ]
  },
  {
   "cell_type": "code",
   "execution_count": 5,
   "id": "7f96ed6e",
   "metadata": {
    "scrolled": false
   },
   "outputs": [],
   "source": [
    "N = 8192\n",
    "scheme, decryptor = init_scheme_ckks(N, primes=[32, 25, 25, 25, 25, 25, 32], scale_factor=25)\n",
    "creator = Creator(scheme)\n",
    "revealer = Revealer(scheme, decryptor)"
   ]
  },
  {
   "cell_type": "code",
   "execution_count": 6,
   "id": "945d33c3",
   "metadata": {
    "scrolled": false
   },
   "outputs": [],
   "source": [
    "model = Model(creator)\n",
    "model.add(InputLayer(input_shape=(1, 30, 30)))\n",
    "model.add(ConvLayer(kernel_size=(5, 5), stride=2, padding=0, num_maps=5))\n",
    "model.add(ActivationLayer(mode='square'))\n",
    "model.add(Flatten(groups=1))\n",
    "model.add(DenseLayer(output_length=100))\n",
    "model.add(ActivationLayer(mode='square'))\n",
    "model.add(DenseLayer(output_length=10))\n",
    "\n",
    "weights, test_features, preds_base, outputs_base = load_data(name='LOTTERY')"
   ]
  },
  {
   "cell_type": "code",
   "execution_count": 7,
   "id": "4c6b53f4",
   "metadata": {
    "scrolled": false
   },
   "outputs": [
    {
     "name": "stdout",
     "output_type": "stream",
     "text": [
      "-------Summary of model-------\n",
      "\u001b[1mName                       Input shape                Output shape               \u001b[0m\n",
      "input0                     (1, 30, 30)                (1, 30, 30)                \n",
      "conv1                      (1, 30, 30)                (5, 13, 13)                \n",
      "activation_square2         (5, 13, 13)                (5, 13, 13)                \n",
      "flatten3                   (5, 13, 13)                (1, 1, 845)                \n",
      "dense4                     (1, 1, 845)                (1, 1, 100)                \n",
      "activation_square5         (1, 1, 100)                (1, 1, 100)                \n",
      "dense6                     (1, 1, 100)                (1, 1, 10)                 \n"
     ]
    }
   ],
   "source": [
    "test_features = test_features[:N // 2]\n",
    "preds_base = preds_base[:N // 2]\n",
    "outputs_base = outputs_base[:N // 2]\n",
    "\n",
    "test_features = ZeroPadding2D()(test_features).numpy()\n",
    "\n",
    "model.compile(data_mode=0)\n",
    "model.load_weights(weights, scale=16)\n",
    "model.summary()"
   ]
  },
  {
   "cell_type": "code",
   "execution_count": 10,
   "id": "3027b8b1",
   "metadata": {
    "scrolled": true
   },
   "outputs": [
    {
     "name": "stdout",
     "output_type": "stream",
     "text": [
      "Encrypting 4096 items\n"
     ]
    },
    {
     "data": {
      "application/vnd.jupyter.widget-view+json": {
       "model_id": "db82a31de05e497681e3f0658fb8237d",
       "version_major": 2,
       "version_minor": 0
      },
      "text/plain": [
       "HBox(children=(HTML(value=''), FloatProgress(value=0.0, max=900.0), HTML(value='')))"
      ]
     },
     "metadata": {},
     "output_type": "display_data"
    },
    {
     "name": "stdout",
     "output_type": "stream",
     "text": [
      "\n",
      "\u001b[94m\u001b[1mEncryption\u001b[0m\u001b[92m::\u001b[0m\u001b[94m8.039\u001b[0m\n",
      "\u001b[94m\u001b[1mApplying layer\u001b[0m\u001b[92m::\u001b[0m\u001b[94minput0\u001b[0m\n",
      "\u001b[94m\u001b[1mTime elapsed\u001b[0m\u001b[92m::\u001b[0m\u001b[94m2e-05\u001b[0m\n",
      "\u001b[94m\u001b[1mApplying layer\u001b[0m\u001b[92m::\u001b[0m\u001b[94mconv1\u001b[0m\n"
     ]
    },
    {
     "data": {
      "application/vnd.jupyter.widget-view+json": {
       "model_id": "8e247b19115d4592941532799f1e4105",
       "version_major": 2,
       "version_minor": 0
      },
      "text/plain": [
       "HBox(children=(HTML(value=''), FloatProgress(value=0.0, max=845.0), HTML(value='')))"
      ]
     },
     "metadata": {},
     "output_type": "display_data"
    },
    {
     "name": "stdout",
     "output_type": "stream",
     "text": [
      "\n",
      "\n",
      "\u001b[94m\u001b[1mTime elapsed\u001b[0m\u001b[92m::\u001b[0m\u001b[94m35.78154\u001b[0m\n",
      "\u001b[94m\u001b[1mApplying layer\u001b[0m\u001b[92m::\u001b[0m\u001b[94mactivation_square2\u001b[0m\n",
      "\u001b[94m\u001b[1mTime elapsed\u001b[0m\u001b[92m::\u001b[0m\u001b[94m7.38566\u001b[0m\n",
      "\u001b[94m\u001b[1mApplying layer\u001b[0m\u001b[92m::\u001b[0m\u001b[94mflatten3\u001b[0m\n",
      "\u001b[94m\u001b[1mTime elapsed\u001b[0m\u001b[92m::\u001b[0m\u001b[94m0.00084\u001b[0m\n",
      "\u001b[94m\u001b[1mApplying layer\u001b[0m\u001b[92m::\u001b[0m\u001b[94mdense4\u001b[0m\n"
     ]
    },
    {
     "data": {
      "application/vnd.jupyter.widget-view+json": {
       "model_id": "712b64d5892e49ee92aed35e1f5d1b3e",
       "version_major": 2,
       "version_minor": 0
      },
      "text/plain": [
       "HBox(children=(HTML(value=''), FloatProgress(value=0.0), HTML(value='')))"
      ]
     },
     "metadata": {},
     "output_type": "display_data"
    },
    {
     "name": "stdout",
     "output_type": "stream",
     "text": [
      "\n",
      "\u001b[94m\u001b[1mTime elapsed\u001b[0m\u001b[92m::\u001b[0m\u001b[94m48.05838\u001b[0m\n",
      "\u001b[94m\u001b[1mApplying layer\u001b[0m\u001b[92m::\u001b[0m\u001b[94mactivation_square5\u001b[0m\n",
      "\u001b[94m\u001b[1mTime elapsed\u001b[0m\u001b[92m::\u001b[0m\u001b[94m0.48586\u001b[0m\n",
      "\u001b[94m\u001b[1mApplying layer\u001b[0m\u001b[92m::\u001b[0m\u001b[94mdense6\u001b[0m\n"
     ]
    },
    {
     "data": {
      "application/vnd.jupyter.widget-view+json": {
       "model_id": "6a1061ec4e8b4dd1875d915598a93166",
       "version_major": 2,
       "version_minor": 0
      },
      "text/plain": [
       "HBox(children=(HTML(value=''), FloatProgress(value=0.0, max=10.0), HTML(value='')))"
      ]
     },
     "metadata": {},
     "output_type": "display_data"
    },
    {
     "name": "stdout",
     "output_type": "stream",
     "text": [
      "\n",
      "\u001b[94m\u001b[1mTime elapsed\u001b[0m\u001b[92m::\u001b[0m\u001b[94m1.09185\u001b[0m\n",
      "\u001b[94m\u001b[1mTotal inference time\u001b[0m\u001b[92m::\u001b[0m\u001b[94m92.80425\u001b[0m\n",
      "------Summary of operations------\n",
      "\u001b[1mLayer               #HOPS     #AddPC    #AddCC    #MulPC    #MulCC    #Rots     Time      \u001b[0m\n",
      "input0              -         -         -         -         -         -         -         \n",
      "conv1               9971      845       3718      5408      -         -         35.782    \n",
      "activation_square2  845       -         -         -         845       -         7.386     \n",
      "flatten3            -         -         -         -         -         -         0.001     \n",
      "dense4              24989     1         12394     12594     -         -         48.058    \n",
      "activation_square5  100       -         -         -         100       -         0.486     \n",
      "dense6              741       1         360       380       -         -         1.092     \n",
      "Total               36646     847       16472     18382     945       -         92.805    \n"
     ]
    }
   ],
   "source": [
    "print('Encrypting %s items' % len(test_features))\n",
    "\n",
    "t0 = time.process_time()\n",
    "model_input = creator.encrypt_simd(mat=test_features)\n",
    "msg('Encryption', str(round(time.process_time() - t0, 4)), OutFlags.INFO)\n",
    "\n",
    "outputs = model.predict(input_data=model_input)"
   ]
  },
  {
   "cell_type": "code",
   "execution_count": 11,
   "id": "2ce43f69",
   "metadata": {
    "scrolled": false
   },
   "outputs": [
    {
     "name": "stdout",
     "output_type": "stream",
     "text": [
      "\u001b[94m\u001b[1mDecryption\u001b[0m\u001b[92m::\u001b[0m\u001b[94m0.0173\u001b[0m\n"
     ]
    }
   ],
   "source": [
    "t0 = time.process_time()\n",
    "outputs = revealer.reveal_outputs(outputs, 10, data_mode=0)\n",
    "msg('Decryption', str(round(time.process_time() - t0, 4)), OutFlags.INFO)"
   ]
  },
  {
   "cell_type": "code",
   "execution_count": 12,
   "id": "859a346a",
   "metadata": {
    "scrolled": false
   },
   "outputs": [
    {
     "data": {
      "text/plain": [
       "1.0"
      ]
     },
     "execution_count": 12,
     "metadata": {},
     "output_type": "execute_result"
    }
   ],
   "source": [
    "classes = np.argmax(outputs, axis=1)[0]\n",
    "accuracy(classes, preds_base)"
   ]
  },
  {
   "cell_type": "markdown",
   "id": "99e8b0c0",
   "metadata": {},
   "source": [
    "### CryptoFace"
   ]
  },
  {
   "cell_type": "markdown",
   "id": "9c380339",
   "metadata": {},
   "source": [
    "The following is some old *test code* for the CryptoFace model left here for convenience. A better, updated demonstration is shown in CryptoFace.ipynb."
   ]
  },
  {
   "cell_type": "markdown",
   "id": "fa4aefaa",
   "metadata": {},
   "source": [
    "#### Set up parameters"
   ]
  },
  {
   "cell_type": "code",
   "execution_count": null,
   "id": "870a784e",
   "metadata": {
    "scrolled": false
   },
   "outputs": [],
   "source": [
    "N = 8192 * 1\n",
    "scheme = get_ckks_scheme(N, primes=[32, 25, 25, 25, 25, 25, 32], scale_factor=25)\n",
    "creator = Creator(scheme)"
   ]
  },
  {
   "cell_type": "code",
   "execution_count": null,
   "id": "3e87a7f3",
   "metadata": {
    "scrolled": false
   },
   "outputs": [],
   "source": [
    "model = Model(creator)\n",
    "model.add(InputLayer(input_shape=(2, 1, 64)))\n",
    "model.add(SubLayer(size=64))\n",
    "model.add(DenseLayer(output_length=64))\n",
    "model.add(ActivationLayer(mode='square'))\n",
    "model.add(DenseLayer(output_length=1))"
   ]
  },
  {
   "cell_type": "code",
   "execution_count": 31,
   "id": "feb8a3bb",
   "metadata": {
    "scrolled": false
   },
   "outputs": [],
   "source": [
    "weights = np.load('data/CRYPTOFACE_weights.npy', allow_pickle=True)"
   ]
  },
  {
   "cell_type": "code",
   "execution_count": 32,
   "id": "8459c87e",
   "metadata": {
    "scrolled": false
   },
   "outputs": [
    {
     "name": "stdout",
     "output_type": "stream",
     "text": [
      "-------Summary of model-------\n",
      "Input Layer, input shape = (2, 1, 64)\n",
      "Difference layer, input shape = (2, 1, 64), output shape = (1, 1, 64)\n",
      "Dense layer, input shape = (1, 1, 64), output shape = (1, 1, 64), weights shape = (64, 64)\n",
      "Activation layer, mode = square, input shape = (1, 1, 64), output shape = (1, 1, 64)\n",
      "Dense layer, input shape = (1, 1, 64), output shape = (1, 1, 1), weights shape = (64, 1)\n",
      "\n"
     ]
    }
   ],
   "source": [
    "preds_base = preds_base[:N // 2]\n",
    "\n",
    "model.compile(data_mode=0)\n",
    "model.load_weights(weights, scale=16)\n",
    "model.summary()"
   ]
  },
  {
   "cell_type": "markdown",
   "id": "e3d63ea8",
   "metadata": {},
   "source": [
    "#### Verify correctness "
   ]
  },
  {
   "cell_type": "code",
   "execution_count": 71,
   "id": "e277fd70",
   "metadata": {
    "scrolled": true
   },
   "outputs": [],
   "source": [
    "def get_features(n):\n",
    "    test_features = np.load('data/CRYPTOFACE_testpairs.npy')\n",
    "    test_features = test_features[n * (N // 2): min((n + 1) * (N // 2), len(test_features))]\n",
    "    test_features = test_features.reshape((test_features.shape[0], 1, 2, 64))\n",
    "    test_features = test_features.transpose((0, 1, 3, 2))\n",
    "    \n",
    "    ps = np.load('data/CRYPTOFACE_preds.npy', allow_pickle=True)\n",
    "    ps = ps[n * (N // 2): min((n + 1) * (N // 2), len(ps))]\n",
    "    \n",
    "    return test_features, ps"
   ]
  },
  {
   "cell_type": "code",
   "execution_count": 72,
   "id": "ff818e1c",
   "metadata": {
    "scrolled": false
   },
   "outputs": [],
   "source": [
    "def to_binary(arr):\n",
    "    arr_ = []\n",
    "    for v in arr:\n",
    "        arr_.append(int(round(v)))\n",
    "    return arr_\n",
    "        \n",
    "\n",
    "sigmoid = lambda x : 1 / (1 + math.exp(-x))"
   ]
  },
  {
   "cell_type": "code",
   "execution_count": 73,
   "id": "e6e509fd",
   "metadata": {
    "scrolled": false
   },
   "outputs": [],
   "source": [
    "def run_model(n):\n",
    "    test_features, ps = get_features(n)\n",
    "    \n",
    "    outputs = model.predict(input_data=creator.encrypt_simd(mat=test_features),\n",
    "                                 creator=creator, classes=N // 2)\n",
    "    outputs = outputs[0, 0, :]\n",
    "        \n",
    "    print(accuracy(to_binary([sigmoid(o) for o in outputs]), to_binary(ps)))"
   ]
  },
  {
   "cell_type": "code",
   "execution_count": 74,
   "id": "5bf4f916",
   "metadata": {
    "scrolled": true
   },
   "outputs": [
    {
     "data": {
      "application/vnd.jupyter.widget-view+json": {
       "model_id": "40346fdbc4e04d298a5f2a3efd750d42",
       "version_major": 2,
       "version_minor": 0
      },
      "text/plain": [
       "HBox(children=(HTML(value=''), FloatProgress(value=0.0, max=128.0), HTML(value='')))"
      ]
     },
     "metadata": {},
     "output_type": "display_data"
    },
    {
     "name": "stdout",
     "output_type": "stream",
     "text": [
      "\n",
      "\u001b[97m\u001b[1mLayer 0\u001b[0m\u001b[92m::\u001b[0m\u001b[97m4.3283000024985085e-05\u001b[0m\n",
      "sub CC: 64\n",
      "mult CC: 64\n",
      "\u001b[97m\u001b[1mLayer 1\u001b[0m\u001b[92m::\u001b[0m\u001b[97m0.7123164829999951\u001b[0m\n",
      "-----Applying dense layer-----\n"
     ]
    },
    {
     "data": {
      "application/vnd.jupyter.widget-view+json": {
       "model_id": "468734ec208f47999a8d45ca26ae11f1",
       "version_major": 2,
       "version_minor": 0
      },
      "text/plain": [
       "HBox(children=(HTML(value=''), FloatProgress(value=0.0, max=64.0), HTML(value='')))"
      ]
     },
     "metadata": {},
     "output_type": "display_data"
    },
    {
     "name": "stdout",
     "output_type": "stream",
     "text": [
      "\n",
      "multPC 4096\n",
      "addCC 3968\n",
      "addPC 1\n",
      "\u001b[97m\u001b[1mLayer 2\u001b[0m\u001b[92m::\u001b[0m\u001b[97m18.286319747999983\u001b[0m\n",
      "\u001b[94m\u001b[1msquare::\u001b[0m\u001b[92m::\u001b[0m\u001b[94m#mult-CC: 64\u001b[0m\n",
      "\u001b[97m\u001b[1mLayer 3\u001b[0m\u001b[92m::\u001b[0m\u001b[97m0.4123363620000191\u001b[0m\n",
      "-----Applying dense layer-----\n"
     ]
    },
    {
     "data": {
      "application/vnd.jupyter.widget-view+json": {
       "model_id": "0d432dc2fa03458cb5ec7487c042516c",
       "version_major": 2,
       "version_minor": 0
      },
      "text/plain": [
       "HBox(children=(HTML(value=''), FloatProgress(value=0.0, max=1.0), HTML(value='')))"
      ]
     },
     "metadata": {},
     "output_type": "display_data"
    },
    {
     "name": "stdout",
     "output_type": "stream",
     "text": [
      "\n",
      "multPC 64\n",
      "addCC 62\n",
      "addPC 1\n",
      "\u001b[97m\u001b[1mLayer 4\u001b[0m\u001b[92m::\u001b[0m\u001b[97m0.2334852500000011\u001b[0m\n",
      "0.99365234375\n"
     ]
    }
   ],
   "source": [
    "run_model(0)"
   ]
  },
  {
   "cell_type": "code",
   "execution_count": 70,
   "id": "7afe75fd",
   "metadata": {
    "scrolled": false
   },
   "outputs": [
    {
     "data": {
      "application/vnd.jupyter.widget-view+json": {
       "model_id": "2a023b95f0c8410a90a62f1e0e15703d",
       "version_major": 2,
       "version_minor": 0
      },
      "text/plain": [
       "HBox(children=(HTML(value=''), FloatProgress(value=0.0, max=128.0), HTML(value='')))"
      ]
     },
     "metadata": {},
     "output_type": "display_data"
    },
    {
     "name": "stdout",
     "output_type": "stream",
     "text": [
      "\n",
      "\u001b[97m\u001b[1mLayer 0\u001b[0m\u001b[92m::\u001b[0m\u001b[97m3.7061000000448985e-05\u001b[0m\n",
      "sub CC: 64\n",
      "mult CC: 64\n",
      "\u001b[97m\u001b[1mLayer 1\u001b[0m\u001b[92m::\u001b[0m\u001b[97m0.7125198580000074\u001b[0m\n",
      "-----Applying dense layer-----\n"
     ]
    },
    {
     "data": {
      "application/vnd.jupyter.widget-view+json": {
       "model_id": "dd0ef9c7977e4099960c1491045afb05",
       "version_major": 2,
       "version_minor": 0
      },
      "text/plain": [
       "HBox(children=(HTML(value=''), FloatProgress(value=0.0, max=64.0), HTML(value='')))"
      ]
     },
     "metadata": {},
     "output_type": "display_data"
    },
    {
     "name": "stdout",
     "output_type": "stream",
     "text": [
      "\n",
      "multPC 4096\n",
      "addCC 3968\n",
      "addPC 1\n",
      "\u001b[97m\u001b[1mLayer 2\u001b[0m\u001b[92m::\u001b[0m\u001b[97m18.557185877999984\u001b[0m\n",
      "\u001b[94m\u001b[1msquare::\u001b[0m\u001b[92m::\u001b[0m\u001b[94m#mult-CC: 64\u001b[0m\n",
      "\u001b[97m\u001b[1mLayer 3\u001b[0m\u001b[92m::\u001b[0m\u001b[97m0.40945899100000815\u001b[0m\n",
      "-----Applying dense layer-----\n"
     ]
    },
    {
     "data": {
      "application/vnd.jupyter.widget-view+json": {
       "model_id": "819e495077e9436ea67fe6f54cd3149e",
       "version_major": 2,
       "version_minor": 0
      },
      "text/plain": [
       "HBox(children=(HTML(value=''), FloatProgress(value=0.0, max=1.0), HTML(value='')))"
      ]
     },
     "metadata": {},
     "output_type": "display_data"
    },
    {
     "name": "stdout",
     "output_type": "stream",
     "text": [
      "\n",
      "multPC 64\n",
      "addCC 62\n",
      "addPC 1\n",
      "\u001b[97m\u001b[1mLayer 4\u001b[0m\u001b[92m::\u001b[0m\u001b[97m0.23111194699998805\u001b[0m\n",
      "0.995361328125\n"
     ]
    }
   ],
   "source": [
    "run_model(1)"
   ]
  },
  {
   "cell_type": "code",
   "execution_count": null,
   "id": "255526de",
   "metadata": {
    "scrolled": false
   },
   "outputs": [],
   "source": []
  }
 ],
 "metadata": {
  "kernelspec": {
   "display_name": "Python 3",
   "language": "python",
   "name": "python3"
  },
  "language_info": {
   "codemirror_mode": {
    "name": "ipython",
    "version": 3
   },
   "file_extension": ".py",
   "mimetype": "text/x-python",
   "name": "python",
   "nbconvert_exporter": "python",
   "pygments_lexer": "ipython3",
   "version": "3.8.5"
  }
 },
 "nbformat": 4,
 "nbformat_minor": 5
}
